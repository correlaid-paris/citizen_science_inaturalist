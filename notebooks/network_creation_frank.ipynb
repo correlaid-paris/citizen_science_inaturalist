{
 "cells": [
  {
   "cell_type": "markdown",
   "metadata": {},
   "source": [
    "# Network Creation iNaturalist project\n",
    "\n",
    "This notebook shows how the social interaction networks are created from the observations data.\n",
    "\n",
    "A connection is created between two users A and B if user A has made an identification of an observation by user B, or vice versa."
   ]
  },
  {
   "cell_type": "code",
   "execution_count": 2,
   "metadata": {},
   "outputs": [],
   "source": [
    "import pandas as pd\n",
    "import networkx as nx\n",
    "import numpy as np\n",
    "import math\n",
    "import os\n",
    "import matplotlib.pyplot as plt\n",
    "import scipy.stats\n",
    "from datetime import datetime"
   ]
  },
  {
   "cell_type": "code",
   "execution_count": 7,
   "metadata": {},
   "outputs": [],
   "source": [
    "\n",
    "import seaborn as sns\n",
    "\n",
    "cities_years = {\n",
    "    'London': [2018, 2019, 2020]\n",
    " #   'Los_Angeles': [2017, 2018, 2019, 2020],\n",
    " #   'San_Francisco': [2017, 2018, 2019, 2020],\n",
    "}\n",
    "\n",
    "\n",
    "\n",
    "cities_colors = {\n",
    "    'London': sns.color_palette(\"Blues\", n_colors = 3), # 3 years \n",
    "    'Los_Angeles': sns.color_palette(\"Reds\", n_colors = 4), # 4 years \n",
    "    'San_Francisco': sns.color_palette(\"Greens\", n_colors = 4),\n",
    "}"
   ]
  },
  {
   "cell_type": "markdown",
   "metadata": {},
   "source": [
    "# Read networks \n",
    "\n",
    "# Plot networks \n",
    "We will use severl packages for construction of networks: newulf and networkx."
   ]
  },
  {
   "cell_type": "code",
   "execution_count": 3,
   "metadata": {},
   "outputs": [],
   "source": [
    "GL2018 = nx.read_gpickle(\"networks/network_London_2018.gpickle\")\n"
   ]
  },
  {
   "cell_type": "code",
   "execution_count": null,
   "metadata": {},
   "outputs": [],
   "source": [
    "#G = nx.path_graph(4)\n",
    "#nx.write_gpickle(G, \"test.gpickle\")\n",
    "GL2018 = nx.read_gpickle(\"networks/network_London_2018.gpickle\")\n",
    "GL2019 = nx.read_gpickle(\"networks/network_London_2019.gpickle\")\n",
    "GL2020 = nx.read_gpickle(\"networks/network_London_2020.gpickle\")\n",
    "\n",
    "GA2017 = nx.read_gpickle(\"networks/network_Los_Angeles_2017.gpickle\")\n",
    "GA2018 = nx.read_gpickle(\"networks/network_Los_Angeles_2018.gpickle\")\n",
    "GA2019 = nx.read_gpickle(\"networks/network_Los_Angeles_2019.gpickle\")\n",
    "GA2020 = nx.read_gpickle(\"networks/network_Los_Angeles_2020.gpickle\")\n",
    "\n",
    "GS2017 = nx.read_gpickle(\"networks/network_San_Francisco_2017.gpickle\")\n",
    "GS2018 = nx.read_gpickle(\"networks/network_San_Francisco_2018.gpickle\")\n",
    "GS2019 = nx.read_gpickle(\"networks/network_San_Francisco_2019.gpickle\")\n",
    "GS2020 = nx.read_gpickle(\"networks/network_San_Francisco_2020.gpickle\")\n"
   ]
  },
  {
   "cell_type": "code",
   "execution_count": null,
   "metadata": {},
   "outputs": [],
   "source": [
    "\n",
    "\n",
    "def draw_network(G):\n",
    "    degree_sequence = sorted([d for n, d in G.degree()], reverse=True) # gives array of degree values\n",
    "    print(degree_sequence) \n",
    "    node_color = degree_sequence # assign node colors\n",
    "    # we choose max and min degree for colorbars\n",
    "    vmin = min(degree_sequence) #.min() \n",
    "    vmax = max(degree_sequence) # .max()\n",
    "    cmap = plt.cm.coolwarm\n",
    "\n",
    "    # we plot network with colorbars\n",
    "    #nx.draw_networkx(G, node_color=degree_sequence,node_size=10, cmap=cmap, vmin=vmin, vmax=vmax)\n",
    "    plt.figure(figsize = (15, 10)) # set size of figure\n",
    "    nx.draw(G, node_color = degree_sequence, node_size=10)\n",
    "\n",
    "#draw_network(GL2018)\n",
    "#draw_network(GL2019)\n",
    "\n",
    "print(\"visualising network\")\n",
    "#visualisation using netwulf\n",
    "stylized_network, config = nw.visualize(GL2018)"
   ]
  },
  {
   "cell_type": "code",
   "execution_count": 13,
   "metadata": {},
   "outputs": [],
   "source": [
    "import networkx as nx\n",
    "import netwulf as nw\n",
    "\n",
    "GL2018 = nx.read_gpickle(\"networks/network_London_2018.gpickle\")\n",
    "GL2019 = nx.read_gpickle(\"networks/network_London_2019.gpickle\")\n",
    "\n",
    "\n",
    "stylized_network, config = nw.visualize(GL2018)"
   ]
  },
  {
   "cell_type": "code",
   "execution_count": 6,
   "metadata": {},
   "outputs": [],
   "source": [
    "#!pip install netwulf "
   ]
  },
  {
   "cell_type": "code",
   "execution_count": 5,
   "metadata": {},
   "outputs": [],
   "source": [
    "import networkx as nx\n",
    "import netwulf as nw\n",
    "\n",
    "#G = nx.barabasi_albert_graph(100,2)\n",
    "#stylized_network, config = nw.visualize(G)"
   ]
  },
  {
   "cell_type": "markdown",
   "metadata": {},
   "source": [
    "# Load data"
   ]
  },
  {
   "cell_type": "code",
   "execution_count": 8,
   "metadata": {},
   "outputs": [
    {
     "name": "stdout",
     "output_type": "stream",
     "text": [
      "Loading:  London 2018\n",
      "Loading:  London 2019\n",
      "Loading:  London 2020\n"
     ]
    },
    {
     "data": {
      "text/html": [
       "<div>\n",
       "<style scoped>\n",
       "    .dataframe tbody tr th:only-of-type {\n",
       "        vertical-align: middle;\n",
       "    }\n",
       "\n",
       "    .dataframe tbody tr th {\n",
       "        vertical-align: top;\n",
       "    }\n",
       "\n",
       "    .dataframe thead th {\n",
       "        text-align: right;\n",
       "    }\n",
       "</style>\n",
       "<table border=\"1\" class=\"dataframe\">\n",
       "  <thead>\n",
       "    <tr style=\"text-align: right;\">\n",
       "      <th></th>\n",
       "      <th>id</th>\n",
       "      <th>observed_on_string</th>\n",
       "      <th>time_observed_at</th>\n",
       "      <th>created_time_zone</th>\n",
       "      <th>created_at</th>\n",
       "      <th>updated_at</th>\n",
       "      <th>description</th>\n",
       "      <th>user_id</th>\n",
       "      <th>user_login</th>\n",
       "      <th>quality_grade</th>\n",
       "      <th>...</th>\n",
       "      <th>preferred_common_name</th>\n",
       "      <th>iconic_taxon_name</th>\n",
       "      <th>taxon_rank</th>\n",
       "      <th>taxon_parent_id</th>\n",
       "      <th>taxon_native</th>\n",
       "      <th>taxon_endemic</th>\n",
       "      <th>taxon_threatened</th>\n",
       "      <th>taxon_search_rank</th>\n",
       "      <th>taxon_observations</th>\n",
       "      <th>identifications</th>\n",
       "    </tr>\n",
       "  </thead>\n",
       "  <tbody>\n",
       "    <tr>\n",
       "      <th>0</th>\n",
       "      <td>11479007</td>\n",
       "      <td>2018-04-27 7:52:34 am BST</td>\n",
       "      <td>2018-04-27T07:52:34+00:00</td>\n",
       "      <td>Etc/UTC</td>\n",
       "      <td>2018-04-27T07:06:17+00:00</td>\n",
       "      <td>2018-04-27T09:26:56+00:00</td>\n",
       "      <td>NaN</td>\n",
       "      <td>159021</td>\n",
       "      <td>muki</td>\n",
       "      <td>research</td>\n",
       "      <td>...</td>\n",
       "      <td>lesser celandine</td>\n",
       "      <td>Plantae</td>\n",
       "      <td>species</td>\n",
       "      <td>204212</td>\n",
       "      <td>True</td>\n",
       "      <td>False</td>\n",
       "      <td>False</td>\n",
       "      <td>27624</td>\n",
       "      <td>27624</td>\n",
       "      <td>[{'user_id': 353381, 'category': 'improving', ...</td>\n",
       "    </tr>\n",
       "    <tr>\n",
       "      <th>1</th>\n",
       "      <td>11480212</td>\n",
       "      <td>2018-04-27 8:39:41 am BST</td>\n",
       "      <td>2018-04-27T08:39:41+01:00</td>\n",
       "      <td>Europe/London</td>\n",
       "      <td>2018-04-27T09:02:52+01:00</td>\n",
       "      <td>2019-01-29T21:16:34+00:00</td>\n",
       "      <td>NaN</td>\n",
       "      <td>664459</td>\n",
       "      <td>lucyrobinsonnhm</td>\n",
       "      <td>research</td>\n",
       "      <td>...</td>\n",
       "      <td>Feral Pigeon</td>\n",
       "      <td>Aves</td>\n",
       "      <td>variety</td>\n",
       "      <td>3017</td>\n",
       "      <td>False</td>\n",
       "      <td>False</td>\n",
       "      <td>False</td>\n",
       "      <td>43329</td>\n",
       "      <td>43329</td>\n",
       "      <td>[{'user_id': 29729, 'category': 'supporting', ...</td>\n",
       "    </tr>\n",
       "    <tr>\n",
       "      <th>2</th>\n",
       "      <td>11480902</td>\n",
       "      <td>Fri Apr 27 2018 08:34:31 GMT+0100 (GMT+1)</td>\n",
       "      <td>2018-04-27T08:34:31+02:00</td>\n",
       "      <td>Europe/Amsterdam</td>\n",
       "      <td>2018-04-27T10:42:01+02:00</td>\n",
       "      <td>2018-04-27T13:01:49+02:00</td>\n",
       "      <td>NaN</td>\n",
       "      <td>908315</td>\n",
       "      <td>tess26</td>\n",
       "      <td>casual</td>\n",
       "      <td>...</td>\n",
       "      <td>Spanish Bluebell</td>\n",
       "      <td>Plantae</td>\n",
       "      <td>species</td>\n",
       "      <td>56095</td>\n",
       "      <td>False</td>\n",
       "      <td>False</td>\n",
       "      <td>False</td>\n",
       "      <td>2813</td>\n",
       "      <td>2813</td>\n",
       "      <td>[{'user_id': 908315, 'category': 'leading', 'd...</td>\n",
       "    </tr>\n",
       "    <tr>\n",
       "      <th>3</th>\n",
       "      <td>11481097</td>\n",
       "      <td>Fri Apr 27 2018 09:54:35 GMT+0100 (GMT+1)</td>\n",
       "      <td>2018-04-27T09:54:35+02:00</td>\n",
       "      <td>Europe/Amsterdam</td>\n",
       "      <td>2018-04-27T10:54:45+02:00</td>\n",
       "      <td>2018-04-27T22:23:41+02:00</td>\n",
       "      <td>NaN</td>\n",
       "      <td>796473</td>\n",
       "      <td>bryonycross</td>\n",
       "      <td>research</td>\n",
       "      <td>...</td>\n",
       "      <td>Green Alkanet</td>\n",
       "      <td>Plantae</td>\n",
       "      <td>species</td>\n",
       "      <td>156638</td>\n",
       "      <td>False</td>\n",
       "      <td>False</td>\n",
       "      <td>False</td>\n",
       "      <td>4639</td>\n",
       "      <td>4639</td>\n",
       "      <td>[{'user_id': 160, 'category': 'improving', 'di...</td>\n",
       "    </tr>\n",
       "    <tr>\n",
       "      <th>4</th>\n",
       "      <td>11482247</td>\n",
       "      <td>2018-04-27 8:42:21 am BST</td>\n",
       "      <td>2018-04-27T08:42:21+01:00</td>\n",
       "      <td>Europe/London</td>\n",
       "      <td>2018-04-27T11:09:55+01:00</td>\n",
       "      <td>2018-04-27T16:37:31+01:00</td>\n",
       "      <td>NaN</td>\n",
       "      <td>664459</td>\n",
       "      <td>lucyrobinsonnhm</td>\n",
       "      <td>research</td>\n",
       "      <td>...</td>\n",
       "      <td>London Plane</td>\n",
       "      <td>Plantae</td>\n",
       "      <td>hybrid</td>\n",
       "      <td>49664</td>\n",
       "      <td>False</td>\n",
       "      <td>False</td>\n",
       "      <td>False</td>\n",
       "      <td>5866</td>\n",
       "      <td>5866</td>\n",
       "      <td>[{'user_id': 160, 'category': 'supporting', 'd...</td>\n",
       "    </tr>\n",
       "  </tbody>\n",
       "</table>\n",
       "<p>5 rows × 38 columns</p>\n",
       "</div>"
      ],
      "text/plain": [
       "         id                         observed_on_string  \\\n",
       "0  11479007                  2018-04-27 7:52:34 am BST   \n",
       "1  11480212                  2018-04-27 8:39:41 am BST   \n",
       "2  11480902  Fri Apr 27 2018 08:34:31 GMT+0100 (GMT+1)   \n",
       "3  11481097  Fri Apr 27 2018 09:54:35 GMT+0100 (GMT+1)   \n",
       "4  11482247                  2018-04-27 8:42:21 am BST   \n",
       "\n",
       "            time_observed_at created_time_zone                 created_at  \\\n",
       "0  2018-04-27T07:52:34+00:00           Etc/UTC  2018-04-27T07:06:17+00:00   \n",
       "1  2018-04-27T08:39:41+01:00     Europe/London  2018-04-27T09:02:52+01:00   \n",
       "2  2018-04-27T08:34:31+02:00  Europe/Amsterdam  2018-04-27T10:42:01+02:00   \n",
       "3  2018-04-27T09:54:35+02:00  Europe/Amsterdam  2018-04-27T10:54:45+02:00   \n",
       "4  2018-04-27T08:42:21+01:00     Europe/London  2018-04-27T11:09:55+01:00   \n",
       "\n",
       "                  updated_at description  user_id       user_login  \\\n",
       "0  2018-04-27T09:26:56+00:00         NaN   159021             muki   \n",
       "1  2019-01-29T21:16:34+00:00         NaN   664459  lucyrobinsonnhm   \n",
       "2  2018-04-27T13:01:49+02:00         NaN   908315           tess26   \n",
       "3  2018-04-27T22:23:41+02:00         NaN   796473      bryonycross   \n",
       "4  2018-04-27T16:37:31+01:00         NaN   664459  lucyrobinsonnhm   \n",
       "\n",
       "  quality_grade  ... preferred_common_name  iconic_taxon_name  taxon_rank  \\\n",
       "0      research  ...      lesser celandine            Plantae     species   \n",
       "1      research  ...          Feral Pigeon               Aves     variety   \n",
       "2        casual  ...      Spanish Bluebell            Plantae     species   \n",
       "3      research  ...         Green Alkanet            Plantae     species   \n",
       "4      research  ...          London Plane            Plantae      hybrid   \n",
       "\n",
       "   taxon_parent_id  taxon_native  taxon_endemic  taxon_threatened  \\\n",
       "0           204212          True          False             False   \n",
       "1             3017         False          False             False   \n",
       "2            56095         False          False             False   \n",
       "3           156638         False          False             False   \n",
       "4            49664         False          False             False   \n",
       "\n",
       "  taxon_search_rank taxon_observations  \\\n",
       "0             27624              27624   \n",
       "1             43329              43329   \n",
       "2              2813               2813   \n",
       "3              4639               4639   \n",
       "4              5866               5866   \n",
       "\n",
       "                                     identifications  \n",
       "0  [{'user_id': 353381, 'category': 'improving', ...  \n",
       "1  [{'user_id': 29729, 'category': 'supporting', ...  \n",
       "2  [{'user_id': 908315, 'category': 'leading', 'd...  \n",
       "3  [{'user_id': 160, 'category': 'improving', 'di...  \n",
       "4  [{'user_id': 160, 'category': 'supporting', 'd...  \n",
       "\n",
       "[5 rows x 38 columns]"
      ]
     },
     "execution_count": 8,
     "metadata": {},
     "output_type": "execute_result"
    }
   ],
   "source": [
    "from collections import defaultdict\n",
    "dfs = defaultdict(dict)\n",
    "dfall = []\n",
    "\n",
    "# data should be taken from raw/observations\n",
    "for city, years in cities_years.items():\n",
    "    for year in years:\n",
    "        print(\"Loading: \", city, year)\n",
    "        df = pd.read_csv(\"data/CNC_{}_{}.csv\".format(city, year)) #raw/observations_v2/\n",
    "        dfs[city][year] = df\n",
    "        dfall.append(df)\n",
    "\n",
    "# only data for London\n",
    "dfall = pd.concat(dfall)\n",
    "dfs['London'][2018].head()\n",
    "\n"
   ]
  },
  {
   "cell_type": "markdown",
   "metadata": {},
   "source": [
    "# Create networks"
   ]
  },
  {
   "cell_type": "code",
   "execution_count": 9,
   "metadata": {},
   "outputs": [],
   "source": [
    "def get_edges(df):\n",
    "    \"\"\" Get the edges from the observation data \n",
    "    \n",
    "    The nodes are the users, encoded as 'source' and 'target'.\n",
    "    An edge between two users A and B means that the users had at least one interaction.\n",
    "    An interaction means that either user A has identified an observation by user B,\n",
    "    or the other way around. \n",
    "    The weight of an edge is how many such interactions ocurred.\n",
    "    \n",
    "    Parameters:\n",
    "    -----------\n",
    "     - df: pd.DataFrame\n",
    "         A dataframe of observations\n",
    "        \n",
    "    Returns:\n",
    "    --------\n",
    "     - edges: pd.DataFrame\n",
    "         A dataframe containing the edges (interactions) between users.\n",
    "         Columns are: source | target | weight\n",
    "         Interactions are only counted once, i.e. if there is an edge A->B there is\n",
    "         no additional edge B->A included (to avoid double counting when\n",
    "         constructing the network)\n",
    "    \"\"\"\n",
    "    edges_list = []\n",
    "    df = df[~df['identifications'].isna()]\n",
    "    for _, row in df.iterrows():\n",
    "#         if type(row['identifications'])==str:\n",
    "#             print(row['identifications'])\n",
    "        idents = eval(row['identifications'])\n",
    "        user_target = row['user_id']\n",
    "        for ident in idents:\n",
    "    #         if ident['category'] in ['supporting', 'improving']\n",
    "            user_source = ident['user_id']\n",
    "            if user_source != user_target:\n",
    "                edges_list.append(sorted([user_source, user_target]))\n",
    "\n",
    "#     return edges_list\n",
    "    edges = pd.DataFrame(edges_list, columns=['source', 'target'])\n",
    "    edges = edges.convert_dtypes()\n",
    "    edges['weight'] = 1\n",
    "    edges = edges.groupby(by=['source', 'target']).sum().reset_index()\n",
    "    return edges\n",
    "\n",
    "def get_network(df):\n",
    "    edges = get_edges(df)\n",
    "    g = nx.from_pandas_edgelist(edges, source='source', target='target', edge_attr='weight', create_using=nx.Graph)\n",
    "    set_node_attribute_weight(g)\n",
    "    return g\n",
    "\n",
    "\n",
    "def get_node_weights(g):\n",
    "    \"\"\" Get the weight W of all nodes\n",
    "    \n",
    "    The weight W of a node is the sum of the weights w of all edges connected to this node\n",
    "    \"\"\"\n",
    "    nodes = g.nodes()\n",
    "    Ws = {}\n",
    "    for node in nodes:\n",
    "        edges = g.edges(node)\n",
    "        W = 0\n",
    "        for edge in edges:\n",
    "            w = g.get_edge_data(*edge, 'weight')['weight']\n",
    "            W += w\n",
    "        Ws[node] = W\n",
    "    return Ws\n",
    "\n",
    "def set_node_attribute_weight(g):\n",
    "    Ws = get_node_weights(g)\n",
    "    nx.set_node_attributes(g, Ws, name='W')\n",
    "    nx.set_node_attributes(g, Ws, name='size')\n",
    "    \n",
    "    return g\n",
    "    \n",
    "\n",
    "def get_all_networks(dfs, cities_years):\n",
    "\n",
    "    from collections import defaultdict\n",
    "    Gs = defaultdict(dict)\n",
    "\n",
    "    for city, years in cities_years.items():\n",
    "        for year in years:\n",
    "            print(\"Converting: \", city, year)\n",
    "            df = dfs[city][year]\n",
    "            g = get_network(df)\n",
    "            g = set_node_attribute_weight(g)\n",
    "            Gs[city][year] = g\n",
    "            \n",
    "    return Gs\n",
    "\n",
    "# dfall_net = pd.concat(dfall_net)\n",
    "# dfs_net['London'][2018].head()"
   ]
  },
  {
   "cell_type": "code",
   "execution_count": 10,
   "metadata": {},
   "outputs": [
    {
     "name": "stdout",
     "output_type": "stream",
     "text": [
      "Converting:  London 2018\n",
      "Converting:  London 2019\n",
      "Converting:  London 2020\n"
     ]
    }
   ],
   "source": [
    "Gs = get_all_networks(dfs, cities_years)"
   ]
  },
  {
   "cell_type": "markdown",
   "metadata": {},
   "source": [
    "# Save networks"
   ]
  },
  {
   "cell_type": "code",
   "execution_count": 11,
   "metadata": {},
   "outputs": [
    {
     "name": "stdout",
     "output_type": "stream",
     "text": [
      "Saving  ../data/networks/network_London_2018.gpickle\n",
      "Saving  ../data/networks/network_London_2019.gpickle\n",
      "Saving  ../data/networks/network_London_2020.gpickle\n",
      "Saving  ../data/networks/network_Los_Angeles_2017.gpickle\n",
      "Saving  ../data/networks/network_Los_Angeles_2018.gpickle\n",
      "Saving  ../data/networks/network_Los_Angeles_2019.gpickle\n",
      "Saving  ../data/networks/network_Los_Angeles_2020.gpickle\n",
      "Saving  ../data/networks/network_San_Francisco_2017.gpickle\n",
      "Saving  ../data/networks/network_San_Francisco_2018.gpickle\n",
      "Saving  ../data/networks/network_San_Francisco_2019.gpickle\n",
      "Saving  ../data/networks/network_San_Francisco_2020.gpickle\n"
     ]
    }
   ],
   "source": [
    "def save_networks(Gs):\n",
    "    for city, graphs_years in Gs.items():\n",
    "        for year, g in graphs_years.items():\n",
    "            fname = \"../data/networks/network_{}_{}.gpickle\".format(city, year)\n",
    "            print(\"Saving \", fname)\n",
    "            nx.write_gpickle(g, fname)\n",
    "\n",
    "save_networks(Gs)"
   ]
  },
  {
   "cell_type": "markdown",
   "metadata": {},
   "source": [
    "# Load networks"
   ]
  },
  {
   "cell_type": "code",
   "execution_count": 3,
   "metadata": {},
   "outputs": [],
   "source": [
    "def load_all_networks(cities_years):\n",
    "    from collections import defaultdict\n",
    "    Gs = defaultdict(dict)\n",
    "    for city, years in cities_years.items():\n",
    "        for year in years:\n",
    "            g = load_network(city, year)\n",
    "            Gs[city][year]=g\n",
    "    return Gs\n",
    "\n",
    "def load_network(city, year):\n",
    "    g = nx.read_gpickle('../data/networks/network_{}_{}.gpickle'.format(city,year))\n",
    "    return g\n",
    "\n",
    "Gs_loaded = load_all_networks(cities_years)"
   ]
  },
  {
   "cell_type": "markdown",
   "metadata": {},
   "source": [
    "# Visualization"
   ]
  },
  {
   "cell_type": "code",
   "execution_count": 4,
   "metadata": {},
   "outputs": [
    {
     "data": {
      "text/plain": [
       "(None, None)"
      ]
     },
     "execution_count": 4,
     "metadata": {},
     "output_type": "execute_result"
    }
   ],
   "source": [
    "from netwulf import visualize\n",
    "visualize(Gs_loaded['London'][2018])"
   ]
  },
  {
   "cell_type": "markdown",
   "metadata": {},
   "source": [
    "# Map user groups"
   ]
  },
  {
   "cell_type": "code",
   "execution_count": 5,
   "metadata": {},
   "outputs": [],
   "source": [
    "user_cluster_data = pd.read_csv(\"outputs/ident_obs_clusters_v2.csv\")"
   ]
  },
  {
   "cell_type": "code",
   "execution_count": null,
   "metadata": {},
   "outputs": [],
   "source": []
  },
  {
   "cell_type": "code",
   "execution_count": 26,
   "metadata": {},
   "outputs": [],
   "source": [
    "def map_users_to_clusters(user_list, user_cluster_data, city, year):\n",
    "    user_cluster_city = user_cluster_data[(user_cluster_data['city']==city.replace(\"_\", \" \")) & (user_cluster_data['year']==year)]\n",
    "    \n",
    "    user_cluster_map = user_cluster_city.set_index(['user_id'])['cluster']\n",
    "    # list(map(list(g.nodes()), user_cluster_map))\n",
    "    clusters = {user: user_cluster_map[user] if user in user_cluster_map.keys() else '-1'  for user in nodes }\n",
    "    return clusters\n",
    "    \n",
    "# city = 'Los_Angeles'\n",
    "city = 'London'\n",
    "# city = 'San_Francisco'\n",
    "year = 2019\n",
    "\n",
    "g = Gs_loaded[city][year]\n",
    "nodes = list(g.nodes())\n",
    "node_clusters = map_users_to_clusters(nodes, user_cluster_data, city, year)\n",
    "\n",
    "nx.set_node_attributes(g, values=node_clusters, name='cluster')"
   ]
  },
  {
   "cell_type": "code",
   "execution_count": 27,
   "metadata": {},
   "outputs": [],
   "source": [
    "# Set colors based on cluster\n",
    "import seaborn as sns\n",
    "# cluster_labels = sorted(np.unique(list(node_clusters.values())))\n",
    "# cluster_labels = ['A', 'B', 'C', 'D', '-1']\n",
    "# cluster_labels = ['A', 'B', 'C', 'D', '-1']\n",
    "cluster_labels = ['B', 'D', 'A', 'C', '-1']\n",
    "colors_pal = sns.color_palette('tab10', n_colors=len(cluster_labels)).as_hex()\n",
    "cluster_to_color = {cluster: color for cluster, color in zip(cluster_labels, colors_pal)}\n",
    "node_colors = {node: cluster_to_color[cluster] for node, cluster in node_clusters.items()}\n",
    "nx.set_node_attributes(g, values=node_colors, name='group')"
   ]
  },
  {
   "cell_type": "code",
   "execution_count": null,
   "metadata": {},
   "outputs": [],
   "source": [
    "from netwulf import visualize\n",
    "# Gcc = sorted(nx.connected_components(g), key=len, reverse=True)\n",
    "# G0 = g.subgraph(Gcc[0])\n",
    "# visualize(G)\n",
    "visualize(g)"
   ]
  },
  {
   "cell_type": "code",
   "execution_count": 19,
   "metadata": {},
   "outputs": [
    {
     "data": {
      "text/plain": [
       "['B', 'D', 'A', 'C', '-1']"
      ]
     },
     "execution_count": 19,
     "metadata": {},
     "output_type": "execute_result"
    }
   ],
   "source": [
    "cluster_labels"
   ]
  },
  {
   "cell_type": "code",
   "execution_count": 21,
   "metadata": {},
   "outputs": [
    {
     "data": {
      "text/plain": [
       "['B', 'D', 'A', 'C', '-1']"
      ]
     },
     "execution_count": 21,
     "metadata": {},
     "output_type": "execute_result"
    }
   ],
   "source": [
    "cluster_labels"
   ]
  },
  {
   "cell_type": "markdown",
   "metadata": {},
   "source": [
    "# Analyze networks \n",
    "Plot and calculate network measures. "
   ]
  },
  {
   "cell_type": "code",
   "execution_count": 5,
   "metadata": {},
   "outputs": [],
   "source": [
    "import networkx as nx\n",
    "\n",
    "\n",
    "# 1. load a network \n",
    "G = GL2018\n",
    "# 2. Calculate measures for each node\n",
    "deg = nx.degree_centrality(G) # gives a dictionary!!!\n",
    "#print(deg)\n",
    "#print(G.degree())\n",
    "#print(type(G.degree))# gives 'networkx.classes.reportviews.DegreeView'\n",
    "degree_sequence = sorted([d for n, d in G.degree()], reverse=True) # gives array of degree values\n",
    "#print(degree_sequence) \n",
    "\n",
    "\n",
    "\n",
    "# 3. Draw network with node colors defined by degree\n",
    "#plt.figure(figsize = (4, 4)) # set size of figure\n",
    "#node_color = degree_sequence # assign node colors\n",
    "#nx.draw(G, node_color = degree_sequence)\n",
    "\n"
   ]
  },
  {
   "cell_type": "code",
   "execution_count": 10,
   "metadata": {},
   "outputs": [],
   "source": [
    "import numpy as np\n",
    "import seaborn\n",
    "\n",
    "def degree_loglogplot(G):\n",
    "    m=1 # parameter\n",
    "    degree_freq = nx.degree_histogram(G)\n",
    "    degrees = range(len(degree_freq))\n",
    "    plt.figure(figsize=(12, 8)) \n",
    "    plt.loglog(degrees[m:], degree_freq[m:],'go-') \n",
    "    plt.xlabel('Degree')\n",
    "    plt.ylabel('Frequency')\n",
    "\n",
    "\n",
    "\n",
    "def measures_for_network(G):\n",
    "    # -*- coding: utf-8 -*-\n",
    "    \n",
    "    print('drawing measures for graph')\n",
    "    plt.hist(list(nx.degree_centrality(G).values()))\n",
    "    plt.xlabel('normalized degree') #np.max(nx.degree_centrality(G_roads).values())*\n",
    "    plt.ylabel('frequency')\n",
    "    plt.show()\n",
    "    \n",
    "    seaborn.distplot(list(nx.degree_centrality(G).values()), bins=20)\n",
    "    plt.xlabel('normalized degree') #np.max(nx.degree_centrality(G_roads).values())*\n",
    "    plt.ylabel('frequency')\n",
    "    plt.show()    \n",
    "    \n",
    "    \n",
    "    seaborn.distplot(list(nx.betweenness_centrality(G).values()), bins=20)#plt.hist(list(nx.betweenness_centrality(G).values()))\n",
    "    plt.xlabel('betweenness')\n",
    "    plt.ylabel('frequency')\n",
    "    plt.show()\n",
    "    \n",
    "    \n",
    "    \n",
    "    seaborn.distplot(list(nx.clustering(G).values()), bins=20)\n",
    "    plt.xlabel('clustering')\n",
    "    plt.ylabel('frequency')\n",
    "    plt.show()\n",
    "    \n",
    "    \n",
    "    \n",
    "    plt.hist(list(nx.closeness_centrality(G).values()))\n",
    "    plt.xlabel('closeness')\n",
    "    plt.ylabel('frequency')\n",
    "    plt.show()\n",
    "    \n",
    "    print('calculating global measures')\n",
    "    \n",
    "    print('average neighbor degree', nx.average_degree_connectivity(G))\n",
    "    \n",
    "    print('average neighbor degree', nx.average_neighbor_degree(G))\n",
    "    \n",
    "    print('average clustering')\n",
    "    avclus = nx.average_clustering(G)\n",
    "    #print(avclus)\n",
    "    \n",
    "    \n",
    "    \n",
    "    components = nx.connected_components(G)\n",
    "    #print('components', components)\n",
    "    #[[1, 2, 3], ['spam']]\n",
    "    \n",
    "    \n",
    "    nx.clustering(G)\n",
    "    #{1: 0.0, 2: 0.0, 3: 0.0, 'spam': 0.0}\n",
    "    \n",
    "    \n",
    "    nx.degree(G)\n",
    "    #Functions that return node properties return dictionaries keyed by node label. {1: 2, 2: 1, 3: 1, 'spam': 0}\n",
    "\n"
   ]
  },
  {
   "cell_type": "code",
   "execution_count": 14,
   "metadata": {},
   "outputs": [
    {
     "data": {
      "image/png": "[encoded data removed]",
      "text/plain": [
       "<Figure size 864x576 with 1 Axes>"
      ]
     },
     "metadata": {
      "needs_background": "light"
     },
     "output_type": "display_data"
    },
    {
     "data": {
      "image/png": "[encoded data removed]",
      "text/plain": [
       "<Figure size 864x576 with 1 Axes>"
      ]
     },
     "metadata": {
      "needs_background": "light"
     },
     "output_type": "display_data"
    }
   ],
   "source": [
    "#measures_for_network(G)\n",
    "degree_loglogplot(G)\n",
    "plt.savefig(\"degreeplot.png\")\n",
    "\n",
    "degree_loglogplot(GL2019)\n",
    "plt.savefig(\"degreeplotLondon2019.png\")\n"
   ]
  },
  {
   "cell_type": "code",
   "execution_count": 25,
   "metadata": {},
   "outputs": [],
   "source": [
    "# Set colors based on degree \n",
    "import seaborn as sns\n",
    "# cluster_labels = sorted(np.unique(list(node_clusters.values())))\n",
    "# cluster_labels = ['A', 'B', 'C', 'D', '-1']\n",
    "# cluster_labels = ['A', 'B', 'C', 'D', '-1']\n",
    "node_clusters = dict(G.degree) # cluster based on degree\n",
    "\n",
    "cluster_labels = (np.unique(degree_sequence)).tolist() # ['B', 'D', 'A', 'C', '-1']\n",
    "colors_pal = sns.color_palette('tab10', n_colors=len(cluster_labels)).as_hex()\n",
    "cluster_to_color = {cluster: color for cluster, color in zip(cluster_labels, colors_pal)}\n",
    "node_colors = {node: cluster_to_color[cluster] for node, cluster in node_clusters.items()}\n",
    "nx.set_node_attributes(G, values=node_colors, name='group')"
   ]
  },
  {
   "cell_type": "code",
   "execution_count": 27,
   "metadata": {},
   "outputs": [
    {
     "name": "stderr",
     "output_type": "stream",
     "text": [
      "----------------------------------------\n",
      "Exception occurred during processing of request from ('127.0.0.1', 57686)\n",
      "Traceback (most recent call last):\n",
      "  File \"c:\\users\\lyubo\\appdata\\local\\programs\\python\\python39\\lib\\socketserver.py\", line 316, in _handle_request_noblock\n",
      "    self.process_request(request, client_address)\n",
      "  File \"c:\\users\\lyubo\\appdata\\local\\programs\\python\\python39\\lib\\socketserver.py\", line 347, in process_request\n",
      "    self.finish_request(request, client_address)\n",
      "  File \"c:\\users\\lyubo\\appdata\\local\\programs\\python\\python39\\lib\\socketserver.py\", line 360, in finish_request\n",
      "    self.RequestHandlerClass(request, client_address, self)\n",
      "  File \"c:\\users\\lyubo\\appdata\\local\\programs\\python\\python39\\lib\\http\\server.py\", line 653, in __init__\n",
      "    super().__init__(*args, **kwargs)\n",
      "  File \"c:\\users\\lyubo\\appdata\\local\\programs\\python\\python39\\lib\\socketserver.py\", line 720, in __init__\n",
      "    self.handle()\n",
      "  File \"c:\\users\\lyubo\\appdata\\local\\programs\\python\\python39\\lib\\http\\server.py\", line 427, in handle\n",
      "    self.handle_one_request()\n",
      "  File \"c:\\users\\lyubo\\appdata\\local\\programs\\python\\python39\\lib\\http\\server.py\", line 415, in handle_one_request\n",
      "    method()\n",
      "  File \"c:\\users\\lyubo\\appdata\\local\\programs\\python\\python39\\lib\\http\\server.py\", line 660, in do_GET\n",
      "    self.copyfile(f, self.wfile)\n",
      "  File \"c:\\users\\lyubo\\appdata\\local\\programs\\python\\python39\\lib\\http\\server.py\", line 859, in copyfile\n",
      "    shutil.copyfileobj(source, outputfile)\n",
      "  File \"c:\\users\\lyubo\\appdata\\local\\programs\\python\\python39\\lib\\shutil.py\", line 208, in copyfileobj\n",
      "    fdst_write(buf)\n",
      "  File \"c:\\users\\lyubo\\appdata\\local\\programs\\python\\python39\\lib\\socketserver.py\", line 799, in write\n",
      "    self._sock.sendall(b)\n",
      "ConnectionAbortedError: [WinError 10053] An established connection was aborted by the software in your host machine\n",
      "----------------------------------------\n"
     ]
    },
    {
     "data": {
      "text/plain": [
       "(None, None)"
      ]
     },
     "execution_count": 27,
     "metadata": {},
     "output_type": "execute_result"
    }
   ],
   "source": [
    "from netwulf import visualize\n",
    "# Gcc = sorted(nx.connected_components(g), key=len, reverse=True)\n",
    "# G0 = g.subgraph(Gcc[0])\n",
    "# visualize(G)\n",
    "visualize(G)"
   ]
  },
  {
   "cell_type": "markdown",
   "metadata": {},
   "source": [
    "# Analysis \n",
    "\n",
    "Are the most central nodes observers or identifiers?\n",
    "For this we aim to check the correlation between degree of a node and number of observations vs. number of identifications of a user. \n",
    "\n",
    "Example of a data: \n",
    "\n",
    " \tuser_id \tobs_count \tident_count \tcity \tyear\n",
    "0 \t353381 \t567.0 \t7.0 \tLondon \t2018\n",
    "1 \t664459 \t150.0 \t24.0 \tLondon \t2018\n"
   ]
  },
  {
   "cell_type": "code",
   "execution_count": null,
   "metadata": {},
   "outputs": [],
   "source": []
  },
  {
   "cell_type": "code",
   "execution_count": 28,
   "metadata": {},
   "outputs": [],
   "source": [
    "# load the data on how many observations each user has \n",
    "user_cluster_data = pd.read_csv(\"outputs/ident_obs_clusters_v2.csv\")\n",
    "n_obs = user_cluster_data[\"obs_count\"] \n",
    "n_iden = user_cluster_data[\"ident_count\"] \n",
    "#let us control for the same order in the array and plot the degree vs. identification/observations\n",
    "\n",
    "# load the data on degree in a network  \n",
    "\n",
    "# correlate the values between two arrays \n",
    "np.corrcoef(n_obs,n_iden)\n"
   ]
  },
  {
   "cell_type": "code",
   "execution_count": 29,
   "metadata": {},
   "outputs": [
    {
     "data": {
      "text/html": [
       "<div>\n",
       "<style scoped>\n",
       "    .dataframe tbody tr th:only-of-type {\n",
       "        vertical-align: middle;\n",
       "    }\n",
       "\n",
       "    .dataframe tbody tr th {\n",
       "        vertical-align: top;\n",
       "    }\n",
       "\n",
       "    .dataframe thead th {\n",
       "        text-align: right;\n",
       "    }\n",
       "</style>\n",
       "<table border=\"1\" class=\"dataframe\">\n",
       "  <thead>\n",
       "    <tr style=\"text-align: right;\">\n",
       "      <th></th>\n",
       "      <th>version https://git-lfs.github.com/spec/v1</th>\n",
       "    </tr>\n",
       "  </thead>\n",
       "  <tbody>\n",
       "    <tr>\n",
       "      <th>0</th>\n",
       "      <td>oid sha256:e8534ffdc5058d63e46eb64a8ff7a1b400b...</td>\n",
       "    </tr>\n",
       "    <tr>\n",
       "      <th>1</th>\n",
       "      <td>size 1515493</td>\n",
       "    </tr>\n",
       "  </tbody>\n",
       "</table>\n",
       "</div>"
      ],
      "text/plain": [
       "          version https://git-lfs.github.com/spec/v1\n",
       "0  oid sha256:e8534ffdc5058d63e46eb64a8ff7a1b400b...\n",
       "1                                       size 1515493"
      ]
     },
     "execution_count": 29,
     "metadata": {},
     "output_type": "execute_result"
    }
   ],
   "source": [
    "user_cluster_data.head()"
   ]
  },
  {
   "cell_type": "code",
   "execution_count": null,
   "metadata": {},
   "outputs": [],
   "source": []
  }
 ],
 "metadata": {
  "hide_input": false,
  "kernelspec": {
   "display_name": "Python 3",
   "language": "python",
   "name": "python3"
  },
  "language_info": {
   "codemirror_mode": {
    "name": "ipython",
    "version": 3
   },
   "file_extension": ".py",
   "mimetype": "text/x-python",
   "name": "python",
   "nbconvert_exporter": "python",
   "pygments_lexer": "ipython3",
   "version": "3.9.2"
  },
  "toc": {
   "base_numbering": 1,
   "nav_menu": {},
   "number_sections": true,
   "sideBar": true,
   "skip_h1_title": false,
   "title_cell": "Table of Contents",
   "title_sidebar": "Contents",
   "toc_cell": false,
   "toc_position": {},
   "toc_section_display": true,
   "toc_window_display": false
  }
 },
 "nbformat": 4,
 "nbformat_minor": 4
}
