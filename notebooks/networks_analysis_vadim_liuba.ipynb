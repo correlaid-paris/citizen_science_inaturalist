{
 "cells": [
  {
   "cell_type": "markdown",
   "metadata": {},
   "source": [
    "# Network measures \n",
    "\n",
    "After network contruction we do network measures estimation.\n"
   ]
  },
  {
   "cell_type": "code",
   "execution_count": 1,
   "metadata": {},
   "outputs": [
    {
     "name": "stderr",
     "output_type": "stream",
     "text": [
      "C:\\Users\\tupikina\\AppData\\Local\\Continuum\\anaconda3\\lib\\site-packages\\pandas\\compat\\_optional.py:138: UserWarning: Pandas requires version '2.7.0' or newer of 'numexpr' (version '2.6.9' currently installed).\n",
      "  warnings.warn(msg, UserWarning)\n"
     ]
    }
   ],
   "source": [
    "import pandas as pd\n",
    "import networkx as nx\n",
    "import numpy as np\n",
    "import math\n",
    "import os\n",
    "import matplotlib.pyplot as plt\n",
    "import scipy.stats\n",
    "from datetime import datetime"
   ]
  },
  {
   "cell_type": "code",
   "execution_count": 2,
   "metadata": {},
   "outputs": [
    {
     "data": {
      "text/html": [
       "<div>\n",
       "<style scoped>\n",
       "    .dataframe tbody tr th:only-of-type {\n",
       "        vertical-align: middle;\n",
       "    }\n",
       "\n",
       "    .dataframe tbody tr th {\n",
       "        vertical-align: top;\n",
       "    }\n",
       "\n",
       "    .dataframe thead th {\n",
       "        text-align: right;\n",
       "    }\n",
       "</style>\n",
       "<table border=\"1\" class=\"dataframe\">\n",
       "  <thead>\n",
       "    <tr style=\"text-align: right;\">\n",
       "      <th></th>\n",
       "      <th>id</th>\n",
       "      <th>observed_on_string</th>\n",
       "      <th>time_observed_at</th>\n",
       "      <th>created_time_zone</th>\n",
       "      <th>created_at</th>\n",
       "      <th>updated_at</th>\n",
       "      <th>description</th>\n",
       "      <th>user_id</th>\n",
       "      <th>user_login</th>\n",
       "      <th>quality_grade</th>\n",
       "      <th>...</th>\n",
       "      <th>preferred_common_name</th>\n",
       "      <th>iconic_taxon_name</th>\n",
       "      <th>taxon_rank</th>\n",
       "      <th>taxon_parent_id</th>\n",
       "      <th>taxon_native</th>\n",
       "      <th>taxon_endemic</th>\n",
       "      <th>taxon_threatened</th>\n",
       "      <th>taxon_search_rank</th>\n",
       "      <th>taxon_observations</th>\n",
       "      <th>identifications</th>\n",
       "    </tr>\n",
       "  </thead>\n",
       "  <tbody>\n",
       "    <tr>\n",
       "      <th>0</th>\n",
       "      <td>7936465</td>\n",
       "      <td>Sun Apr 29 2018 14:53:07 GMT-0700 (PDT)</td>\n",
       "      <td>2018-04-29T14:53:07-07:00</td>\n",
       "      <td>America/Los_Angeles</td>\n",
       "      <td>2017-09-15T15:13:04-07:00</td>\n",
       "      <td>2018-05-03T14:53:12-07:00</td>\n",
       "      <td>On a pomegranate tree in the NHM edible garden</td>\n",
       "      <td>630902</td>\n",
       "      <td>noelstnick</td>\n",
       "      <td>research</td>\n",
       "      <td>...</td>\n",
       "      <td>NaN</td>\n",
       "      <td>Insecta</td>\n",
       "      <td>species</td>\n",
       "      <td>61257</td>\n",
       "      <td>True</td>\n",
       "      <td>False</td>\n",
       "      <td>False</td>\n",
       "      <td>2446</td>\n",
       "      <td>2446</td>\n",
       "      <td>[{'user_id': 181940, 'category': 'supporting',...</td>\n",
       "    </tr>\n",
       "    <tr>\n",
       "      <th>1</th>\n",
       "      <td>8261280</td>\n",
       "      <td>Sun Apr 29 2018 16:26:11 GMT-0700 (PDT)</td>\n",
       "      <td>2018-04-29T16:26:11-07:00</td>\n",
       "      <td>America/Los_Angeles</td>\n",
       "      <td>2017-10-04T16:26:56-07:00</td>\n",
       "      <td>2019-10-25T19:57:22-07:00</td>\n",
       "      <td>On a pomegranate tree in the NHM edible garden</td>\n",
       "      <td>630902</td>\n",
       "      <td>noelstnick</td>\n",
       "      <td>needs_id</td>\n",
       "      <td>...</td>\n",
       "      <td>Snout and Bark Beetles</td>\n",
       "      <td>Insecta</td>\n",
       "      <td>superfamily</td>\n",
       "      <td>372852</td>\n",
       "      <td>False</td>\n",
       "      <td>False</td>\n",
       "      <td>False</td>\n",
       "      <td>139060</td>\n",
       "      <td>139060</td>\n",
       "      <td>[{'user_id': 240872, 'category': 'improving', ...</td>\n",
       "    </tr>\n",
       "    <tr>\n",
       "      <th>2</th>\n",
       "      <td>8481460</td>\n",
       "      <td>Sun Apr 29 2018 13:57:13 GMT-0700 (PDT)</td>\n",
       "      <td>2018-04-29T13:57:13-07:00</td>\n",
       "      <td>America/Los_Angeles</td>\n",
       "      <td>2017-10-20T13:57:56-07:00</td>\n",
       "      <td>2018-05-03T14:51:28-07:00</td>\n",
       "      <td>On a pomegranate tree in the NHM edible garden</td>\n",
       "      <td>630902</td>\n",
       "      <td>noelstnick</td>\n",
       "      <td>research</td>\n",
       "      <td>...</td>\n",
       "      <td>Oleander Aphid</td>\n",
       "      <td>Insecta</td>\n",
       "      <td>species</td>\n",
       "      <td>55215</td>\n",
       "      <td>False</td>\n",
       "      <td>False</td>\n",
       "      <td>False</td>\n",
       "      <td>8602</td>\n",
       "      <td>8602</td>\n",
       "      <td>[{'user_id': 630902, 'category': 'improving', ...</td>\n",
       "    </tr>\n",
       "    <tr>\n",
       "      <th>3</th>\n",
       "      <td>8623537</td>\n",
       "      <td>Sun Apr 29 2018 16:54:17 GMT-0700 (PDT)</td>\n",
       "      <td>2018-04-29T16:54:17-07:00</td>\n",
       "      <td>America/Los_Angeles</td>\n",
       "      <td>2017-10-30T16:55:45-07:00</td>\n",
       "      <td>2018-05-03T14:51:13-07:00</td>\n",
       "      <td>On a pomegranate tree in the NHM edible garden</td>\n",
       "      <td>630902</td>\n",
       "      <td>noelstnick</td>\n",
       "      <td>casual</td>\n",
       "      <td>...</td>\n",
       "      <td>Mexican Bush Sage</td>\n",
       "      <td>Plantae</td>\n",
       "      <td>species</td>\n",
       "      <td>50644</td>\n",
       "      <td>False</td>\n",
       "      <td>False</td>\n",
       "      <td>False</td>\n",
       "      <td>4795</td>\n",
       "      <td>4795</td>\n",
       "      <td>[{'user_id': 630902, 'category': None, 'disagr...</td>\n",
       "    </tr>\n",
       "    <tr>\n",
       "      <th>4</th>\n",
       "      <td>8762645</td>\n",
       "      <td>Sun Apr 29 2018 11:32:50 GMT-0700 (PDT)</td>\n",
       "      <td>2018-04-29T11:32:50-07:00</td>\n",
       "      <td>America/Los_Angeles</td>\n",
       "      <td>2017-11-11T11:33:49-08:00</td>\n",
       "      <td>2018-10-24T14:30:26-07:00</td>\n",
       "      <td>On a pomegranate tree in the NHM edible garden</td>\n",
       "      <td>630902</td>\n",
       "      <td>noelstnick</td>\n",
       "      <td>research</td>\n",
       "      <td>...</td>\n",
       "      <td>mule fat</td>\n",
       "      <td>Plantae</td>\n",
       "      <td>species</td>\n",
       "      <td>52111</td>\n",
       "      <td>True</td>\n",
       "      <td>False</td>\n",
       "      <td>False</td>\n",
       "      <td>7626</td>\n",
       "      <td>7626</td>\n",
       "      <td>[{'user_id': 630902, 'category': 'improving', ...</td>\n",
       "    </tr>\n",
       "  </tbody>\n",
       "</table>\n",
       "<p>5 rows × 38 columns</p>\n",
       "</div>"
      ],
      "text/plain": [
       "        id                       observed_on_string  \\\n",
       "0  7936465  Sun Apr 29 2018 14:53:07 GMT-0700 (PDT)   \n",
       "1  8261280  Sun Apr 29 2018 16:26:11 GMT-0700 (PDT)   \n",
       "2  8481460  Sun Apr 29 2018 13:57:13 GMT-0700 (PDT)   \n",
       "3  8623537  Sun Apr 29 2018 16:54:17 GMT-0700 (PDT)   \n",
       "4  8762645  Sun Apr 29 2018 11:32:50 GMT-0700 (PDT)   \n",
       "\n",
       "            time_observed_at    created_time_zone                 created_at  \\\n",
       "0  2018-04-29T14:53:07-07:00  America/Los_Angeles  2017-09-15T15:13:04-07:00   \n",
       "1  2018-04-29T16:26:11-07:00  America/Los_Angeles  2017-10-04T16:26:56-07:00   \n",
       "2  2018-04-29T13:57:13-07:00  America/Los_Angeles  2017-10-20T13:57:56-07:00   \n",
       "3  2018-04-29T16:54:17-07:00  America/Los_Angeles  2017-10-30T16:55:45-07:00   \n",
       "4  2018-04-29T11:32:50-07:00  America/Los_Angeles  2017-11-11T11:33:49-08:00   \n",
       "\n",
       "                  updated_at                                      description  \\\n",
       "0  2018-05-03T14:53:12-07:00  On a pomegranate tree in the NHM edible garden    \n",
       "1  2019-10-25T19:57:22-07:00  On a pomegranate tree in the NHM edible garden    \n",
       "2  2018-05-03T14:51:28-07:00  On a pomegranate tree in the NHM edible garden    \n",
       "3  2018-05-03T14:51:13-07:00  On a pomegranate tree in the NHM edible garden    \n",
       "4  2018-10-24T14:30:26-07:00  On a pomegranate tree in the NHM edible garden    \n",
       "\n",
       "   user_id  user_login quality_grade  ...   preferred_common_name  \\\n",
       "0   630902  noelstnick      research  ...                     NaN   \n",
       "1   630902  noelstnick      needs_id  ...  Snout and Bark Beetles   \n",
       "2   630902  noelstnick      research  ...          Oleander Aphid   \n",
       "3   630902  noelstnick        casual  ...       Mexican Bush Sage   \n",
       "4   630902  noelstnick      research  ...                mule fat   \n",
       "\n",
       "   iconic_taxon_name   taxon_rank  taxon_parent_id  taxon_native  \\\n",
       "0            Insecta      species            61257          True   \n",
       "1            Insecta  superfamily           372852         False   \n",
       "2            Insecta      species            55215         False   \n",
       "3            Plantae      species            50644         False   \n",
       "4            Plantae      species            52111          True   \n",
       "\n",
       "   taxon_endemic  taxon_threatened taxon_search_rank taxon_observations  \\\n",
       "0          False             False              2446               2446   \n",
       "1          False             False            139060             139060   \n",
       "2          False             False              8602               8602   \n",
       "3          False             False              4795               4795   \n",
       "4          False             False              7626               7626   \n",
       "\n",
       "                                     identifications  \n",
       "0  [{'user_id': 181940, 'category': 'supporting',...  \n",
       "1  [{'user_id': 240872, 'category': 'improving', ...  \n",
       "2  [{'user_id': 630902, 'category': 'improving', ...  \n",
       "3  [{'user_id': 630902, 'category': None, 'disagr...  \n",
       "4  [{'user_id': 630902, 'category': 'improving', ...  \n",
       "\n",
       "[5 rows x 38 columns]"
      ]
     },
     "execution_count": 2,
     "metadata": {},
     "output_type": "execute_result"
    }
   ],
   "source": [
    "# uploading datasets for 2019\n",
    "#sf_2019 = pd.read_csv('../data/raw/data_examples/CNC San Francisco 2019.csv')\n",
    "london_2018 = pd.read_csv('../data/raw/data_examples/CNC_London_2018.csv')\n",
    "la_2018 = pd.read_csv('../data/raw/data_examples/CNC_Los_Angeles_2018.csv')\n",
    "\n",
    "la_2018.head()"
   ]
  },
  {
   "cell_type": "code",
   "execution_count": 3,
   "metadata": {},
   "outputs": [
    {
     "data": {
      "text/html": [
       "<div>\n",
       "<style scoped>\n",
       "    .dataframe tbody tr th:only-of-type {\n",
       "        vertical-align: middle;\n",
       "    }\n",
       "\n",
       "    .dataframe tbody tr th {\n",
       "        vertical-align: top;\n",
       "    }\n",
       "\n",
       "    .dataframe thead th {\n",
       "        text-align: right;\n",
       "    }\n",
       "</style>\n",
       "<table border=\"1\" class=\"dataframe\">\n",
       "  <thead>\n",
       "    <tr style=\"text-align: right;\">\n",
       "      <th></th>\n",
       "      <th>captive</th>\n",
       "      <th>created_at</th>\n",
       "      <th>created_time_zone</th>\n",
       "      <th>description</th>\n",
       "      <th>faves_count</th>\n",
       "      <th>geoprivacy</th>\n",
       "      <th>iconic_taxon_name</th>\n",
       "      <th>id</th>\n",
       "      <th>identifications</th>\n",
       "      <th>identifications_most_agree</th>\n",
       "      <th>...</th>\n",
       "      <th>taxon_native</th>\n",
       "      <th>taxon_observations</th>\n",
       "      <th>taxon_parent_id</th>\n",
       "      <th>taxon_rank</th>\n",
       "      <th>taxon_search_rank</th>\n",
       "      <th>taxon_threatened</th>\n",
       "      <th>time_observed_at</th>\n",
       "      <th>updated_at</th>\n",
       "      <th>user_id</th>\n",
       "      <th>user_login</th>\n",
       "    </tr>\n",
       "  </thead>\n",
       "  <tbody>\n",
       "    <tr>\n",
       "      <th>0</th>\n",
       "      <td>False</td>\n",
       "      <td>2019-02-28T17:39:08-08:00</td>\n",
       "      <td>America/Los_Angeles</td>\n",
       "      <td>NaN</td>\n",
       "      <td>0</td>\n",
       "      <td>NaN</td>\n",
       "      <td>Plantae</td>\n",
       "      <td>20841493</td>\n",
       "      <td>[{'user_id': 496245, 'category': 'improving', ...</td>\n",
       "      <td>True</td>\n",
       "      <td>...</td>\n",
       "      <td>True</td>\n",
       "      <td>10499.0</td>\n",
       "      <td>52689.0</td>\n",
       "      <td>species</td>\n",
       "      <td>10499.0</td>\n",
       "      <td>False</td>\n",
       "      <td>2019-04-28T09:38:38-07:00</td>\n",
       "      <td>2019-04-30T12:43:10-07:00</td>\n",
       "      <td>496245</td>\n",
       "      <td>ranger_sarie</td>\n",
       "    </tr>\n",
       "    <tr>\n",
       "      <th>1</th>\n",
       "      <td>False</td>\n",
       "      <td>2019-03-10T06:54:58-07:00</td>\n",
       "      <td>America/Los_Angeles</td>\n",
       "      <td>NaN</td>\n",
       "      <td>0</td>\n",
       "      <td>NaN</td>\n",
       "      <td>Plantae</td>\n",
       "      <td>21111190</td>\n",
       "      <td>[{'user_id': 496245, 'category': 'improving', ...</td>\n",
       "      <td>True</td>\n",
       "      <td>...</td>\n",
       "      <td>False</td>\n",
       "      <td>46996.0</td>\n",
       "      <td>795678.0</td>\n",
       "      <td>genus</td>\n",
       "      <td>46996.0</td>\n",
       "      <td>False</td>\n",
       "      <td>2019-04-27T17:50:14-07:00</td>\n",
       "      <td>2019-05-04T18:22:16-07:00</td>\n",
       "      <td>496245</td>\n",
       "      <td>ranger_sarie</td>\n",
       "    </tr>\n",
       "    <tr>\n",
       "      <th>2</th>\n",
       "      <td>False</td>\n",
       "      <td>2019-03-11T05:28:49-07:00</td>\n",
       "      <td>America/Los_Angeles</td>\n",
       "      <td>NaN</td>\n",
       "      <td>0</td>\n",
       "      <td>NaN</td>\n",
       "      <td>Plantae</td>\n",
       "      <td>21142999</td>\n",
       "      <td>[{'user_id': 74669, 'category': 'leading', 'di...</td>\n",
       "      <td>False</td>\n",
       "      <td>...</td>\n",
       "      <td>False</td>\n",
       "      <td>26146105.0</td>\n",
       "      <td>48460.0</td>\n",
       "      <td>kingdom</td>\n",
       "      <td>26146105.0</td>\n",
       "      <td>False</td>\n",
       "      <td>2019-04-27T18:23:24-07:00</td>\n",
       "      <td>2019-05-02T18:56:27-07:00</td>\n",
       "      <td>496245</td>\n",
       "      <td>ranger_sarie</td>\n",
       "    </tr>\n",
       "    <tr>\n",
       "      <th>3</th>\n",
       "      <td>False</td>\n",
       "      <td>2019-03-29T07:44:25-07:00</td>\n",
       "      <td>America/Los_Angeles</td>\n",
       "      <td>NaN</td>\n",
       "      <td>0</td>\n",
       "      <td>NaN</td>\n",
       "      <td>Plantae</td>\n",
       "      <td>21737158</td>\n",
       "      <td>[{'user_id': 1850, 'category': 'supporting', '...</td>\n",
       "      <td>True</td>\n",
       "      <td>...</td>\n",
       "      <td>True</td>\n",
       "      <td>4658.0</td>\n",
       "      <td>50644.0</td>\n",
       "      <td>species</td>\n",
       "      <td>4658.0</td>\n",
       "      <td>False</td>\n",
       "      <td>2019-04-27T18:11:50-07:00</td>\n",
       "      <td>2019-04-30T12:43:09-07:00</td>\n",
       "      <td>496245</td>\n",
       "      <td>ranger_sarie</td>\n",
       "    </tr>\n",
       "    <tr>\n",
       "      <th>4</th>\n",
       "      <td>False</td>\n",
       "      <td>2019-04-06T18:21:06-07:00</td>\n",
       "      <td>America/Los_Angeles</td>\n",
       "      <td>NaN</td>\n",
       "      <td>0</td>\n",
       "      <td>NaN</td>\n",
       "      <td>Plantae</td>\n",
       "      <td>22121228</td>\n",
       "      <td>[{'user_id': 203848, 'category': 'supporting',...</td>\n",
       "      <td>True</td>\n",
       "      <td>...</td>\n",
       "      <td>False</td>\n",
       "      <td>258420.0</td>\n",
       "      <td>47791.0</td>\n",
       "      <td>family</td>\n",
       "      <td>258420.0</td>\n",
       "      <td>False</td>\n",
       "      <td>2019-04-26T09:49:39-07:00</td>\n",
       "      <td>2019-05-05T22:15:38-07:00</td>\n",
       "      <td>496245</td>\n",
       "      <td>ranger_sarie</td>\n",
       "    </tr>\n",
       "  </tbody>\n",
       "</table>\n",
       "<p>5 rows × 38 columns</p>\n",
       "</div>"
      ],
      "text/plain": [
       "   captive                 created_at    created_time_zone description  \\\n",
       "0    False  2019-02-28T17:39:08-08:00  America/Los_Angeles         NaN   \n",
       "1    False  2019-03-10T06:54:58-07:00  America/Los_Angeles         NaN   \n",
       "2    False  2019-03-11T05:28:49-07:00  America/Los_Angeles         NaN   \n",
       "3    False  2019-03-29T07:44:25-07:00  America/Los_Angeles         NaN   \n",
       "4    False  2019-04-06T18:21:06-07:00  America/Los_Angeles         NaN   \n",
       "\n",
       "   faves_count geoprivacy iconic_taxon_name        id  \\\n",
       "0            0        NaN           Plantae  20841493   \n",
       "1            0        NaN           Plantae  21111190   \n",
       "2            0        NaN           Plantae  21142999   \n",
       "3            0        NaN           Plantae  21737158   \n",
       "4            0        NaN           Plantae  22121228   \n",
       "\n",
       "                                     identifications  \\\n",
       "0  [{'user_id': 496245, 'category': 'improving', ...   \n",
       "1  [{'user_id': 496245, 'category': 'improving', ...   \n",
       "2  [{'user_id': 74669, 'category': 'leading', 'di...   \n",
       "3  [{'user_id': 1850, 'category': 'supporting', '...   \n",
       "4  [{'user_id': 203848, 'category': 'supporting',...   \n",
       "\n",
       "   identifications_most_agree  ...  taxon_native  taxon_observations  \\\n",
       "0                        True  ...          True             10499.0   \n",
       "1                        True  ...         False             46996.0   \n",
       "2                       False  ...         False          26146105.0   \n",
       "3                        True  ...          True              4658.0   \n",
       "4                        True  ...         False            258420.0   \n",
       "\n",
       "   taxon_parent_id  taxon_rank  taxon_search_rank  taxon_threatened  \\\n",
       "0          52689.0     species            10499.0             False   \n",
       "1         795678.0       genus            46996.0             False   \n",
       "2          48460.0     kingdom         26146105.0             False   \n",
       "3          50644.0     species             4658.0             False   \n",
       "4          47791.0      family           258420.0             False   \n",
       "\n",
       "            time_observed_at                 updated_at user_id    user_login  \n",
       "0  2019-04-28T09:38:38-07:00  2019-04-30T12:43:10-07:00  496245  ranger_sarie  \n",
       "1  2019-04-27T17:50:14-07:00  2019-05-04T18:22:16-07:00  496245  ranger_sarie  \n",
       "2  2019-04-27T18:23:24-07:00  2019-05-02T18:56:27-07:00  496245  ranger_sarie  \n",
       "3  2019-04-27T18:11:50-07:00  2019-04-30T12:43:09-07:00  496245  ranger_sarie  \n",
       "4  2019-04-26T09:49:39-07:00  2019-05-05T22:15:38-07:00  496245  ranger_sarie  \n",
       "\n",
       "[5 rows x 38 columns]"
      ]
     },
     "execution_count": 3,
     "metadata": {},
     "output_type": "execute_result"
    }
   ],
   "source": [
    "# uploading datasets for 2019\n",
    "#sf_2019 = pd.read_csv('../data/raw/data_examples/CNC San Francisco 2019.csv')\n",
    "london_2019 = pd.read_csv('../data/raw/data_examples/CNC_London_2019.csv')\n",
    "la_2019 = pd.read_csv('../data/raw/data_examples/CNC_Los_Angeles_2019.csv')\n",
    "\n",
    "london_2020 = pd.read_csv('../data/raw/data_examples/CNC_London_2020.csv')\n",
    "la_2020 = pd.read_csv('../data/raw/data_examples/CNC_Los_Angeles_2020.csv')\n",
    "\n",
    "\n",
    "la_2019.head()\n",
    "\n",
    "\n",
    "\n"
   ]
  },
  {
   "cell_type": "code",
   "execution_count": 16,
   "metadata": {},
   "outputs": [
    {
     "data": {
      "text/html": [
       "<div>\n",
       "<style scoped>\n",
       "    .dataframe tbody tr th:only-of-type {\n",
       "        vertical-align: middle;\n",
       "    }\n",
       "\n",
       "    .dataframe tbody tr th {\n",
       "        vertical-align: top;\n",
       "    }\n",
       "\n",
       "    .dataframe thead th {\n",
       "        text-align: right;\n",
       "    }\n",
       "</style>\n",
       "<table border=\"1\" class=\"dataframe\">\n",
       "  <thead>\n",
       "    <tr style=\"text-align: right;\">\n",
       "      <th></th>\n",
       "      <th>captive</th>\n",
       "      <th>created_at</th>\n",
       "      <th>created_time_zone</th>\n",
       "      <th>description</th>\n",
       "      <th>faves_count</th>\n",
       "      <th>geoprivacy</th>\n",
       "      <th>iconic_taxon_name</th>\n",
       "      <th>id</th>\n",
       "      <th>identifications</th>\n",
       "      <th>identifications_most_agree</th>\n",
       "      <th>...</th>\n",
       "      <th>taxon_native</th>\n",
       "      <th>taxon_observations</th>\n",
       "      <th>taxon_parent_id</th>\n",
       "      <th>taxon_rank</th>\n",
       "      <th>taxon_search_rank</th>\n",
       "      <th>taxon_threatened</th>\n",
       "      <th>time_observed_at</th>\n",
       "      <th>updated_at</th>\n",
       "      <th>user_id</th>\n",
       "      <th>user_login</th>\n",
       "    </tr>\n",
       "  </thead>\n",
       "  <tbody>\n",
       "    <tr>\n",
       "      <th>0</th>\n",
       "      <td>False</td>\n",
       "      <td>2018-07-03T16:54:26-07:00</td>\n",
       "      <td>America/Los_Angeles</td>\n",
       "      <td>NaN</td>\n",
       "      <td>0</td>\n",
       "      <td>NaN</td>\n",
       "      <td>Plantae</td>\n",
       "      <td>14025964</td>\n",
       "      <td>[{'user_id': 469701, 'category': 'maverick', '...</td>\n",
       "      <td>True</td>\n",
       "      <td>...</td>\n",
       "      <td>True</td>\n",
       "      <td>8485.0</td>\n",
       "      <td>777236.0</td>\n",
       "      <td>species</td>\n",
       "      <td>8485.0</td>\n",
       "      <td>False</td>\n",
       "      <td>2019-04-29T00:42:00-07:00</td>\n",
       "      <td>2019-05-26T09:11:19-07:00</td>\n",
       "      <td>469701</td>\n",
       "      <td>sastinson</td>\n",
       "    </tr>\n",
       "    <tr>\n",
       "      <th>1</th>\n",
       "      <td>False</td>\n",
       "      <td>2019-04-20T09:31:59-07:00</td>\n",
       "      <td>America/Los_Angeles</td>\n",
       "      <td>NaN</td>\n",
       "      <td>0</td>\n",
       "      <td>NaN</td>\n",
       "      <td>Insecta</td>\n",
       "      <td>22761497</td>\n",
       "      <td>[{'user_id': 402292, 'category': 'leading', 'd...</td>\n",
       "      <td>False</td>\n",
       "      <td>...</td>\n",
       "      <td>False</td>\n",
       "      <td>4259.0</td>\n",
       "      <td>184884.0</td>\n",
       "      <td>order</td>\n",
       "      <td>4259.0</td>\n",
       "      <td>False</td>\n",
       "      <td>2019-04-27T11:30:45-07:00</td>\n",
       "      <td>2019-04-27T14:39:53-07:00</td>\n",
       "      <td>402292</td>\n",
       "      <td>zufi</td>\n",
       "    </tr>\n",
       "    <tr>\n",
       "      <th>2</th>\n",
       "      <td>False</td>\n",
       "      <td>2019-04-26T00:01:19-07:00</td>\n",
       "      <td>America/Los_Angeles</td>\n",
       "      <td>NaN</td>\n",
       "      <td>0</td>\n",
       "      <td>NaN</td>\n",
       "      <td>Plantae</td>\n",
       "      <td>23103225</td>\n",
       "      <td>[{'user_id': 3494, 'category': 'improving', 'd...</td>\n",
       "      <td>True</td>\n",
       "      <td>...</td>\n",
       "      <td>True</td>\n",
       "      <td>1445.0</td>\n",
       "      <td>52972.0</td>\n",
       "      <td>species</td>\n",
       "      <td>1445.0</td>\n",
       "      <td>False</td>\n",
       "      <td>2019-04-26T00:00:05-07:00</td>\n",
       "      <td>2019-04-26T20:19:42-07:00</td>\n",
       "      <td>3494</td>\n",
       "      <td>damontighe</td>\n",
       "    </tr>\n",
       "    <tr>\n",
       "      <th>3</th>\n",
       "      <td>False</td>\n",
       "      <td>2019-04-26T00:02:00-07:00</td>\n",
       "      <td>America/Los_Angeles</td>\n",
       "      <td>NaN</td>\n",
       "      <td>0</td>\n",
       "      <td>NaN</td>\n",
       "      <td>Insecta</td>\n",
       "      <td>23103272</td>\n",
       "      <td>[{'user_id': 3494, 'category': 'improving', 'd...</td>\n",
       "      <td>True</td>\n",
       "      <td>...</td>\n",
       "      <td>True</td>\n",
       "      <td>14801.0</td>\n",
       "      <td>49349.0</td>\n",
       "      <td>species</td>\n",
       "      <td>14801.0</td>\n",
       "      <td>False</td>\n",
       "      <td>2019-04-26T00:00:44-07:00</td>\n",
       "      <td>2020-08-23T23:26:00-07:00</td>\n",
       "      <td>3494</td>\n",
       "      <td>damontighe</td>\n",
       "    </tr>\n",
       "    <tr>\n",
       "      <th>4</th>\n",
       "      <td>False</td>\n",
       "      <td>2019-04-26T00:02:22-07:00</td>\n",
       "      <td>America/Los_Angeles</td>\n",
       "      <td>NaN</td>\n",
       "      <td>0</td>\n",
       "      <td>NaN</td>\n",
       "      <td>Plantae</td>\n",
       "      <td>23103287</td>\n",
       "      <td>[{'user_id': 1, 'category': 'supporting', 'dis...</td>\n",
       "      <td>True</td>\n",
       "      <td>...</td>\n",
       "      <td>False</td>\n",
       "      <td>7132.0</td>\n",
       "      <td>61907.0</td>\n",
       "      <td>species</td>\n",
       "      <td>7132.0</td>\n",
       "      <td>False</td>\n",
       "      <td>2019-04-26T00:00:52-07:00</td>\n",
       "      <td>2019-04-26T00:14:33-07:00</td>\n",
       "      <td>3494</td>\n",
       "      <td>damontighe</td>\n",
       "    </tr>\n",
       "  </tbody>\n",
       "</table>\n",
       "<p>5 rows × 38 columns</p>\n",
       "</div>"
      ],
      "text/plain": [
       "   captive                 created_at    created_time_zone description  \\\n",
       "0    False  2018-07-03T16:54:26-07:00  America/Los_Angeles         NaN   \n",
       "1    False  2019-04-20T09:31:59-07:00  America/Los_Angeles         NaN   \n",
       "2    False  2019-04-26T00:01:19-07:00  America/Los_Angeles         NaN   \n",
       "3    False  2019-04-26T00:02:00-07:00  America/Los_Angeles         NaN   \n",
       "4    False  2019-04-26T00:02:22-07:00  America/Los_Angeles         NaN   \n",
       "\n",
       "   faves_count geoprivacy iconic_taxon_name        id  \\\n",
       "0            0        NaN           Plantae  14025964   \n",
       "1            0        NaN           Insecta  22761497   \n",
       "2            0        NaN           Plantae  23103225   \n",
       "3            0        NaN           Insecta  23103272   \n",
       "4            0        NaN           Plantae  23103287   \n",
       "\n",
       "                                     identifications  \\\n",
       "0  [{'user_id': 469701, 'category': 'maverick', '...   \n",
       "1  [{'user_id': 402292, 'category': 'leading', 'd...   \n",
       "2  [{'user_id': 3494, 'category': 'improving', 'd...   \n",
       "3  [{'user_id': 3494, 'category': 'improving', 'd...   \n",
       "4  [{'user_id': 1, 'category': 'supporting', 'dis...   \n",
       "\n",
       "   identifications_most_agree  ...  taxon_native  taxon_observations  \\\n",
       "0                        True  ...          True              8485.0   \n",
       "1                       False  ...         False              4259.0   \n",
       "2                        True  ...          True              1445.0   \n",
       "3                        True  ...          True             14801.0   \n",
       "4                        True  ...         False              7132.0   \n",
       "\n",
       "   taxon_parent_id  taxon_rank  taxon_search_rank  taxon_threatened  \\\n",
       "0         777236.0     species             8485.0             False   \n",
       "1         184884.0       order             4259.0             False   \n",
       "2          52972.0     species             1445.0             False   \n",
       "3          49349.0     species            14801.0             False   \n",
       "4          61907.0     species             7132.0             False   \n",
       "\n",
       "            time_observed_at                 updated_at user_id  user_login  \n",
       "0  2019-04-29T00:42:00-07:00  2019-05-26T09:11:19-07:00  469701   sastinson  \n",
       "1  2019-04-27T11:30:45-07:00  2019-04-27T14:39:53-07:00  402292        zufi  \n",
       "2  2019-04-26T00:00:05-07:00  2019-04-26T20:19:42-07:00    3494  damontighe  \n",
       "3  2019-04-26T00:00:44-07:00  2020-08-23T23:26:00-07:00    3494  damontighe  \n",
       "4  2019-04-26T00:00:52-07:00  2019-04-26T00:14:33-07:00    3494  damontighe  \n",
       "\n",
       "[5 rows x 38 columns]"
      ]
     },
     "execution_count": 16,
     "metadata": {},
     "output_type": "execute_result"
    }
   ],
   "source": [
    "# uploading datasets for 2019\n",
    "#sf_2019 = pd.read_csv('../data/raw/data_examples/CNC San Francisco 2019.csv')\n",
    "sf_2018 = pd.read_csv('../data/raw/data_examples/CNC_San_Francisco_2018.csv')\n",
    "sf_2019 = pd.read_csv('../data/raw/data_examples/CNC_San_Francisco_2019.csv')\n",
    "sf_2020 = pd.read_csv('../data/raw/data_examples/CNC_San_Francisco_2020.csv')\n",
    "\n",
    "\n",
    "sf_2019.head()\n"
   ]
  },
  {
   "cell_type": "code",
   "execution_count": 317,
   "metadata": {},
   "outputs": [],
   "source": [
    "# df_net['year'] = pd.to_datetime(df_net['created_at'], utc = True).dt.to_period('M')"
   ]
  },
  {
   "cell_type": "code",
   "execution_count": 4,
   "metadata": {},
   "outputs": [],
   "source": [
    "def bipartite_net_make(df, min_weight = 2):\n",
    "    \"\"\"\n",
    "    The function returns a biaprtite network with the two types of nodes: observations and \n",
    "    actions (changes made by other users of INaturalist)\n",
    "    \n",
    "    Arguments:\n",
    "    - df -- dataframe\n",
    "    - min_weight - minimal weight of an edge between nodes\n",
    "    \"\"\"\n",
    "    \n",
    "    df_net = pd.DataFrame()\n",
    "    \n",
    "    for _, row in df.iterrows():\n",
    "        idents = row['identifications']\n",
    "        if pd.isnull(idents) == False:\n",
    "            df_temp = pd.DataFrame(eval(idents))\n",
    "            df_temp['target'] = np.repeat(row['user_id'], df_temp.shape[0])\n",
    "            df_net = df_net.append(df_temp)\n",
    "        \n",
    "    edges = pd.DataFrame(df_net[['user_id', 'target']])\n",
    "    \n",
    "    # removing loops\n",
    "    edges['temp'] = np.array(edges['user_id']) == np.array(edges['target'])\n",
    "    edges = edges[edges['temp'] == False]\n",
    "    edges = edges.drop(['temp'], axis = 1)\n",
    "    \n",
    "    # removing edges based on the chosen threshold\n",
    "    edges['weight'] = 1\n",
    "    edges = edges.groupby(by=['user_id', 'target']).sum().reset_index()\n",
    "    edges = edges[edges['weight'] >= min_weight]\n",
    "    \n",
    "    bipartite_G = nx.Graph()\n",
    "\n",
    "    for r, d in edges.iterrows():\n",
    "        pid = 'P{0}'.format(d['user_id']) \n",
    "        cid = 'C{0}'.format(d['target'])  \n",
    "        bipartite_G.add_node(pid, bipartite='action')\n",
    "        bipartite_G.add_node(cid, bipartite='observation')\n",
    "        bipartite_G.add_edge(pid, cid)\n",
    "        \n",
    "    return bipartite_G"
   ]
  },
  {
   "cell_type": "code",
   "execution_count": 5,
   "metadata": {},
   "outputs": [],
   "source": [
    "def projection_make(bip_net, projection = 'action'):\n",
    "    \"\"\"\n",
    "    The function returns a projection of a bipartite network \n",
    "    \n",
    "    Arguments:\n",
    "    \n",
    "    - bip_net -- bipartite networks\n",
    "    - projection (observation or action) -- in the case of 'action', the function returns a network where users are\n",
    "    connected based on the common observations (they were working on); 'observation'  returns a network of \n",
    "    observations having a common list of collaborators\n",
    "    \"\"\"\n",
    "    \n",
    "    if projection == 'action':\n",
    "        action_nodes = [node for node in bip_net.nodes() if bip_net.nodes[node]['bipartite'] == 'action']\n",
    "        actions_graph = nx.bipartite.projection.projected_graph(bip_net, action_nodes)\n",
    "        \n",
    "        return actions_graph\n",
    "    \n",
    "    elif projection == 'observation':\n",
    "        observation_nodes = [node for node in bip_net.nodes() if bip_net.nodes[node]['bipartite'] == 'observation']\n",
    "        observations_graph = nx.bipartite.projection.projected_graph(bip_net, observation_nodes)\n",
    "        \n",
    "        return observations_graph"
   ]
  },
  {
   "cell_type": "code",
   "execution_count": 6,
   "metadata": {},
   "outputs": [],
   "source": [
    "def descriptive_net_analysis(net):\n",
    "    \n",
    "    \"\"\"\n",
    "    The function returns basic descriptive characteristics of a net\n",
    "    \"\"\"\n",
    "    \n",
    "    nodes = net.number_of_nodes()\n",
    "    edges = net.number_of_edges()\n",
    "    density = nx.density(net)\n",
    "    \n",
    "    beetweenness = nx.betweenness_centrality(net)\n",
    "    avg_beetw = np.mean(list(beetweenness.values()))\n",
    "    sd_beetw = np.std(list(beetweenness.values()))\n",
    "    \n",
    "    degree = nx.degree_centrality(net)\n",
    "    avg_degree = np.mean(list(degree.values()))\n",
    "    sd_degree = np.std(list(degree.values()))\n",
    "    \n",
    "    clustering_coef = nx.average_clustering(net)\n",
    "    \n",
    "    print(\"number of nodes: {}, number of edges: {}\".format(nodes, edges))\n",
    "    print(\"density of the network: {0:.2f}\".format(density))\n",
    "    print(\"average beetweenness of the network: {}, sd: {}\".format(avg_beetw, sd_beetw))\n",
    "    print(\"average degree of the network: {}, sd: {}\".format(avg_degree, sd_degree))\n",
    "    print(\"clustering coefficient:\", clustering_coef)"
   ]
  },
  {
   "cell_type": "markdown",
   "metadata": {},
   "source": [
    "# Construction of networks \n",
    "\n",
    "Making networks for each year 2018-2020."
   ]
  },
  {
   "cell_type": "code",
   "execution_count": 7,
   "metadata": {},
   "outputs": [],
   "source": [
    "# making bipartite networks from the dfs (can take some time)\n",
    "#g_sf = bipartite_net_make(sf_2019, min_weight = 2)\n",
    "g_london = bipartite_net_make(london_2018, min_weight = 2)\n",
    "g_la = bipartite_net_make(la_2018, min_weight = 2)"
   ]
  },
  {
   "cell_type": "code",
   "execution_count": 11,
   "metadata": {},
   "outputs": [],
   "source": [
    "# making a projection for the London bipartite network\n",
    "london_proj2018 = projection_make(g_london, projection = 'action')"
   ]
  },
  {
   "cell_type": "code",
   "execution_count": null,
   "metadata": {},
   "outputs": [],
   "source": [
    "# making a projection for the San Francisco bipartite network\n",
    "#sf_proj = projection_make(g_sf, projection = 'action')"
   ]
  },
  {
   "cell_type": "code",
   "execution_count": 12,
   "metadata": {},
   "outputs": [],
   "source": [
    "# making a projection for the Los Angeles bipartite network\n",
    "la_proj2018 = projection_make(g_la, projection = 'action')"
   ]
  },
  {
   "cell_type": "code",
   "execution_count": 8,
   "metadata": {},
   "outputs": [],
   "source": [
    "g_london = bipartite_net_make(london_2019, min_weight = 2)\n",
    "g_la = bipartite_net_make(la_2019, min_weight = 2)\n",
    "\n",
    "# making a projection for the London bipartite network\n",
    "london_proj2019 = projection_make(g_london, projection = 'action')\n",
    "la_proj2019 = projection_make(g_la, projection = 'action')"
   ]
  },
  {
   "cell_type": "code",
   "execution_count": 11,
   "metadata": {},
   "outputs": [],
   "source": [
    "g_london = bipartite_net_make(london_2020, min_weight = 2)\n",
    "g_la = bipartite_net_make(la_2020, min_weight = 2)\n",
    "\n",
    "# making a projection for the London bipartite network\n",
    "london_proj2020 = projection_make(g_london, projection = 'action')\n",
    "la_proj2020 = projection_make(g_la, projection = 'action')"
   ]
  },
  {
   "cell_type": "markdown",
   "metadata": {},
   "source": [
    "# Networks \n",
    "Construct networks for san fransisco "
   ]
  },
  {
   "cell_type": "code",
   "execution_count": 17,
   "metadata": {},
   "outputs": [],
   "source": [
    "g_sf = bipartite_net_make(sf_2018, min_weight = 2)\n",
    "# making a projection for the London bipartite network\n",
    "sf_proj2018 = projection_make(g_sf, projection = 'action')\n",
    "\n",
    "\n",
    "g_sf = bipartite_net_make(sf_2019, min_weight = 2)\n",
    "# making a projection for the London bipartite network\n",
    "sf_proj2019 = projection_make(g_sf, projection = 'action')\n",
    "\n",
    "g_sf = bipartite_net_make(sf_2020, min_weight = 2)\n",
    "# making a projection for the London bipartite network\n",
    "sf_proj2020 = projection_make(g_sf, projection = 'action')\n"
   ]
  },
  {
   "cell_type": "markdown",
   "metadata": {},
   "source": [
    "# Analysis of networks \n",
    "\n",
    "First let us make average indicators comparison for various networks from SF, London and LA for various years. \n",
    "\n",
    "\n",
    "### Analysis of London CNC network"
   ]
  },
  {
   "cell_type": "code",
   "execution_count": 9,
   "metadata": {},
   "outputs": [
    {
     "name": "stdout",
     "output_type": "stream",
     "text": [
      "network for year 2018 London\n",
      "number of nodes: 151, number of edges: 3838\n",
      "density of the network: 0.34\n",
      "average beetweenness of the network: 0.004378268663792463, sd: 0.013268337186874653\n",
      "average degree of the network: 0.3388962472406181, sd: 0.2433461008033697\n",
      "clustering coefficient: 0.8787713150677778\n"
     ]
    }
   ],
   "source": [
    "# London net characteristics\n",
    "print(\"network for year 2018 London\")\n",
    "descriptive_net_analysis(london_proj2018)"
   ]
  },
  {
   "cell_type": "code",
   "execution_count": 129,
   "metadata": {
    "scrolled": true
   },
   "outputs": [
    {
     "name": "stdout",
     "output_type": "stream",
     "text": [
      "number of nodes: 206, number of edges: 7308\n",
      "density of the network: 0.34610466493014447\n",
      "average beetweenness of the network: 0.003176117712062328, sd: 0.010756374208345182\n",
      "average degree of the network: 0.3461046649301445, sd: 0.2584748125781289\n",
      "clustering coefficient: 0.9051918436132372\n"
     ]
    }
   ],
   "source": [
    "# London net characteristics for 2019\n",
    "descriptive_net_analysis(london_proj2019)"
   ]
  },
  {
   "cell_type": "code",
   "execution_count": 12,
   "metadata": {},
   "outputs": [
    {
     "name": "stdout",
     "output_type": "stream",
     "text": [
      "number of nodes: 154, number of edges: 2668\n",
      "density of the network: 0.23\n",
      "average beetweenness of the network: 0.004919272334133014, sd: 0.015720032635685676\n",
      "average degree of the network: 0.22646634411340297, sd: 0.2001300725874848\n",
      "clustering coefficient: 0.7931981229017593\n"
     ]
    }
   ],
   "source": [
    "# London net characteristics for 2020\n",
    "descriptive_net_analysis(london_proj2020)"
   ]
  },
  {
   "cell_type": "markdown",
   "metadata": {},
   "source": [
    "### Networks for SF"
   ]
  },
  {
   "cell_type": "code",
   "execution_count": 19,
   "metadata": {},
   "outputs": [
    {
     "name": "stdout",
     "output_type": "stream",
     "text": [
      "number of nodes: 636, number of edges: 30628\n",
      "density of the network: 0.15\n",
      "average beetweenness of the network: 0.0012813807327116677, sd: 0.005669887894828528\n",
      "average degree of the network: 0.15167632347843313, sd: 0.16219834298623734\n",
      "clustering coefficient: 0.8055607901180315\n"
     ]
    }
   ],
   "source": [
    "# San Francisco net characteristics for 2018 \n",
    "descriptive_net_analysis(sf_proj2018)"
   ]
  },
  {
   "cell_type": "code",
   "execution_count": 18,
   "metadata": {},
   "outputs": [
    {
     "name": "stdout",
     "output_type": "stream",
     "text": [
      "number of nodes: 666, number of edges: 26153\n",
      "density of the network: 0.12\n",
      "average beetweenness of the network: 0.0013451489355103825, sd: 0.006584434393223758\n",
      "average degree of the network: 0.11810156020682337, sd: 0.13695390689567652\n",
      "clustering coefficient: 0.8030974330380027\n"
     ]
    }
   ],
   "source": [
    "# San Francisco net characteristics for 2019 \n",
    "descriptive_net_analysis(sf_proj2019)"
   ]
  },
  {
   "cell_type": "code",
   "execution_count": 20,
   "metadata": {},
   "outputs": [
    {
     "name": "stdout",
     "output_type": "stream",
     "text": [
      "number of nodes: 611, number of edges: 16977\n",
      "density of the network: 0.09\n",
      "average beetweenness of the network: 0.0014484599308336738, sd: 0.007201481349345319\n",
      "average degree of the network: 0.09110031928308873, sd: 0.11216016100594393\n",
      "clustering coefficient: 0.7454111426392614\n"
     ]
    }
   ],
   "source": [
    "# San Francisco net characteristics for 2020 \n",
    "descriptive_net_analysis(sf_proj2020)"
   ]
  },
  {
   "cell_type": "markdown",
   "metadata": {},
   "source": [
    "### Networks for LA"
   ]
  },
  {
   "cell_type": "code",
   "execution_count": 13,
   "metadata": {},
   "outputs": [
    {
     "name": "stdout",
     "output_type": "stream",
     "text": [
      "network for year 2018 LA\n",
      "number of nodes: 543, number of edges: 29122\n",
      "density of the network: 0.20\n",
      "average beetweenness of the network: 0.0014867018902314933, sd: 0.0052673119181158\n",
      "average degree of the network: 0.19790286300653062, sd: 0.18068929483078222\n",
      "clustering coefficient: 0.815629175960693\n"
     ]
    }
   ],
   "source": [
    "# London net characteristics\n",
    "print(\"network for year 2018 LA\")\n",
    "descriptive_net_analysis(la_proj2018)"
   ]
  },
  {
   "cell_type": "code",
   "execution_count": null,
   "metadata": {},
   "outputs": [],
   "source": []
  },
  {
   "cell_type": "code",
   "execution_count": 13,
   "metadata": {},
   "outputs": [
    {
     "name": "stdout",
     "output_type": "stream",
     "text": [
      "network for year 2019 LA\n",
      "number of nodes: 612, number of edges: 35059\n",
      "density of the network: 0.19\n",
      "average beetweenness of the network: 0.0013377026733886754, sd: 0.004284953119000909\n",
      "average degree of the network: 0.18751537712739214, sd: 0.1801642093316199\n",
      "clustering coefficient: 0.808378623504858\n"
     ]
    }
   ],
   "source": [
    "# Los Angeles net characteristics\n",
    "\n",
    "print(\"network for year 2019 LA\")\n",
    "descriptive_net_analysis(la_proj2019)"
   ]
  },
  {
   "cell_type": "code",
   "execution_count": 14,
   "metadata": {},
   "outputs": [
    {
     "name": "stdout",
     "output_type": "stream",
     "text": [
      "network for year 2020 LA\n",
      "number of nodes: 423, number of edges: 14542\n",
      "density of the network: 0.16\n",
      "average beetweenness of the network: 0.0019361811507403782, sd: 0.008205155852890557\n",
      "average degree of the network: 0.16293009758775615, sd: 0.16329486128158532\n",
      "clustering coefficient: 0.8031456336397258\n"
     ]
    }
   ],
   "source": [
    "# Los Angeles net characteristics\n",
    "\n",
    "print(\"network for year 2020 LA\")\n",
    "descriptive_net_analysis(la_proj2020)"
   ]
  },
  {
   "cell_type": "markdown",
   "metadata": {},
   "source": [
    "# Plot evolution of network indicators in time"
   ]
  },
  {
   "cell_type": "code",
   "execution_count": null,
   "metadata": {},
   "outputs": [],
   "source": [
    "plt.plot(x, y, '-o')# label=city, color=cities_colors[city][-1])   \n",
    "        #estimate number of observations per city \n",
    "\n",
    "plt.ylabel(\"degree \")\n",
    "plt.title(\"degree evolution per year\")\n",
    "plt.legend(frameon=False, fontsize=7, loc='lower left')\n",
    "\n",
    "plt.ylim(ymin=0)\n",
    "plt.show()"
   ]
  },
  {
   "cell_type": "markdown",
   "metadata": {},
   "source": [
    "# Visualise networks \n",
    "\n",
    "We will use netwulf for this. \n"
   ]
  },
  {
   "cell_type": "code",
   "execution_count": 15,
   "metadata": {},
   "outputs": [],
   "source": [
    "#!pip install netwulf"
   ]
  },
  {
   "cell_type": "code",
   "execution_count": 17,
   "metadata": {},
   "outputs": [
    {
     "data": {
      "text/plain": [
       "(None, None)"
      ]
     },
     "execution_count": 17,
     "metadata": {},
     "output_type": "execute_result"
    }
   ],
   "source": [
    "from netwulf import visualize\n",
    "visualize(la_proj2018)"
   ]
  },
  {
   "cell_type": "code",
   "execution_count": 18,
   "metadata": {},
   "outputs": [
    {
     "data": {
      "text/plain": [
       "(None, None)"
      ]
     },
     "execution_count": 18,
     "metadata": {},
     "output_type": "execute_result"
    }
   ],
   "source": [
    "from netwulf import visualize\n",
    "visualize(london_proj2018)"
   ]
  },
  {
   "cell_type": "code",
   "execution_count": null,
   "metadata": {},
   "outputs": [],
   "source": []
  }
 ],
 "metadata": {
  "kernelspec": {
   "display_name": "Python 3",
   "language": "python",
   "name": "python3"
  },
  "language_info": {
   "codemirror_mode": {
    "name": "ipython",
    "version": 3
   },
   "file_extension": ".py",
   "mimetype": "text/x-python",
   "name": "python",
   "nbconvert_exporter": "python",
   "pygments_lexer": "ipython3",
   "version": "3.7.3"
  }
 },
 "nbformat": 4,
 "nbformat_minor": 2
}
