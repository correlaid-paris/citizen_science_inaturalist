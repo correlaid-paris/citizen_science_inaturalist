{
 "cells": [
  {
   "cell_type": "markdown",
   "id": "seventh-johnson",
   "metadata": {},
   "source": [
    "# Observations per user in the CNCs"
   ]
  },
  {
   "cell_type": "code",
   "execution_count": 1,
   "id": "naval-screw",
   "metadata": {},
   "outputs": [],
   "source": [
    "import pandas as pd\n",
    "\n",
    "# config\n",
    "cities_years = {\n",
    "    'London': [2018, 2019, 2020],\n",
    "    'Los_Angeles': [2017, 2018, 2019, 2020],\n",
    "    'San_Francisco': [2017, 2018, 2019, 2020]\n",
    "}"
   ]
  },
  {
   "cell_type": "code",
   "execution_count": 2,
   "id": "respective-mountain",
   "metadata": {},
   "outputs": [
    {
     "name": "stdout",
     "output_type": "stream",
     "text": [
      "Loading:  London 2018\n",
      "Loading:  London 2019\n",
      "Loading:  London 2020\n",
      "Loading:  Los_Angeles 2017\n",
      "Loading:  Los_Angeles 2018\n",
      "Loading:  Los_Angeles 2019\n",
      "Loading:  Los_Angeles 2020\n",
      "Loading:  San_Francisco 2017\n",
      "Loading:  San_Francisco 2018\n",
      "Loading:  San_Francisco 2019\n",
      "Loading:  San_Francisco 2020\n"
     ]
    },
    {
     "data": {
      "text/html": [
       "<div>\n",
       "<style scoped>\n",
       "    .dataframe tbody tr th:only-of-type {\n",
       "        vertical-align: middle;\n",
       "    }\n",
       "\n",
       "    .dataframe tbody tr th {\n",
       "        vertical-align: top;\n",
       "    }\n",
       "\n",
       "    .dataframe thead th {\n",
       "        text-align: right;\n",
       "    }\n",
       "</style>\n",
       "<table border=\"1\" class=\"dataframe\">\n",
       "  <thead>\n",
       "    <tr style=\"text-align: right;\">\n",
       "      <th></th>\n",
       "      <th>id</th>\n",
       "      <th>observed_on_string</th>\n",
       "      <th>time_observed_at</th>\n",
       "      <th>created_time_zone</th>\n",
       "      <th>created_at</th>\n",
       "      <th>updated_at</th>\n",
       "      <th>description</th>\n",
       "      <th>user_id</th>\n",
       "      <th>user_login</th>\n",
       "      <th>quality_grade</th>\n",
       "      <th>...</th>\n",
       "      <th>preferred_common_name</th>\n",
       "      <th>iconic_taxon_name</th>\n",
       "      <th>taxon_rank</th>\n",
       "      <th>taxon_parent_id</th>\n",
       "      <th>taxon_native</th>\n",
       "      <th>taxon_endemic</th>\n",
       "      <th>taxon_threatened</th>\n",
       "      <th>taxon_search_rank</th>\n",
       "      <th>taxon_observations</th>\n",
       "      <th>identifications</th>\n",
       "    </tr>\n",
       "  </thead>\n",
       "  <tbody>\n",
       "    <tr>\n",
       "      <th>0</th>\n",
       "      <td>11479007</td>\n",
       "      <td>2018-04-27 7:52:34 am BST</td>\n",
       "      <td>2018-04-27T07:52:34+00:00</td>\n",
       "      <td>Etc/UTC</td>\n",
       "      <td>2018-04-27T07:06:17+00:00</td>\n",
       "      <td>2018-04-27T09:26:56+00:00</td>\n",
       "      <td>NaN</td>\n",
       "      <td>159021</td>\n",
       "      <td>muki</td>\n",
       "      <td>research</td>\n",
       "      <td>...</td>\n",
       "      <td>lesser celandine</td>\n",
       "      <td>Plantae</td>\n",
       "      <td>species</td>\n",
       "      <td>204212</td>\n",
       "      <td>True</td>\n",
       "      <td>False</td>\n",
       "      <td>False</td>\n",
       "      <td>27624</td>\n",
       "      <td>27624</td>\n",
       "      <td>[{'user_id': 353381, 'category': 'improving', ...</td>\n",
       "    </tr>\n",
       "    <tr>\n",
       "      <th>1</th>\n",
       "      <td>11480212</td>\n",
       "      <td>2018-04-27 8:39:41 am BST</td>\n",
       "      <td>2018-04-27T08:39:41+01:00</td>\n",
       "      <td>Europe/London</td>\n",
       "      <td>2018-04-27T09:02:52+01:00</td>\n",
       "      <td>2019-01-29T21:16:34+00:00</td>\n",
       "      <td>NaN</td>\n",
       "      <td>664459</td>\n",
       "      <td>lucyrobinsonnhm</td>\n",
       "      <td>research</td>\n",
       "      <td>...</td>\n",
       "      <td>Feral Pigeon</td>\n",
       "      <td>Aves</td>\n",
       "      <td>variety</td>\n",
       "      <td>3017</td>\n",
       "      <td>False</td>\n",
       "      <td>False</td>\n",
       "      <td>False</td>\n",
       "      <td>43329</td>\n",
       "      <td>43329</td>\n",
       "      <td>[{'user_id': 29729, 'category': 'supporting', ...</td>\n",
       "    </tr>\n",
       "    <tr>\n",
       "      <th>2</th>\n",
       "      <td>11480902</td>\n",
       "      <td>Fri Apr 27 2018 08:34:31 GMT+0100 (GMT+1)</td>\n",
       "      <td>2018-04-27T08:34:31+02:00</td>\n",
       "      <td>Europe/Amsterdam</td>\n",
       "      <td>2018-04-27T10:42:01+02:00</td>\n",
       "      <td>2018-04-27T13:01:49+02:00</td>\n",
       "      <td>NaN</td>\n",
       "      <td>908315</td>\n",
       "      <td>tess26</td>\n",
       "      <td>casual</td>\n",
       "      <td>...</td>\n",
       "      <td>Spanish Bluebell</td>\n",
       "      <td>Plantae</td>\n",
       "      <td>species</td>\n",
       "      <td>56095</td>\n",
       "      <td>False</td>\n",
       "      <td>False</td>\n",
       "      <td>False</td>\n",
       "      <td>2813</td>\n",
       "      <td>2813</td>\n",
       "      <td>[{'user_id': 908315, 'category': 'leading', 'd...</td>\n",
       "    </tr>\n",
       "    <tr>\n",
       "      <th>3</th>\n",
       "      <td>11481097</td>\n",
       "      <td>Fri Apr 27 2018 09:54:35 GMT+0100 (GMT+1)</td>\n",
       "      <td>2018-04-27T09:54:35+02:00</td>\n",
       "      <td>Europe/Amsterdam</td>\n",
       "      <td>2018-04-27T10:54:45+02:00</td>\n",
       "      <td>2018-04-27T22:23:41+02:00</td>\n",
       "      <td>NaN</td>\n",
       "      <td>796473</td>\n",
       "      <td>bryonycross</td>\n",
       "      <td>research</td>\n",
       "      <td>...</td>\n",
       "      <td>Green Alkanet</td>\n",
       "      <td>Plantae</td>\n",
       "      <td>species</td>\n",
       "      <td>156638</td>\n",
       "      <td>False</td>\n",
       "      <td>False</td>\n",
       "      <td>False</td>\n",
       "      <td>4639</td>\n",
       "      <td>4639</td>\n",
       "      <td>[{'user_id': 160, 'category': 'improving', 'di...</td>\n",
       "    </tr>\n",
       "    <tr>\n",
       "      <th>4</th>\n",
       "      <td>11482247</td>\n",
       "      <td>2018-04-27 8:42:21 am BST</td>\n",
       "      <td>2018-04-27T08:42:21+01:00</td>\n",
       "      <td>Europe/London</td>\n",
       "      <td>2018-04-27T11:09:55+01:00</td>\n",
       "      <td>2018-04-27T16:37:31+01:00</td>\n",
       "      <td>NaN</td>\n",
       "      <td>664459</td>\n",
       "      <td>lucyrobinsonnhm</td>\n",
       "      <td>research</td>\n",
       "      <td>...</td>\n",
       "      <td>London Plane</td>\n",
       "      <td>Plantae</td>\n",
       "      <td>hybrid</td>\n",
       "      <td>49664</td>\n",
       "      <td>False</td>\n",
       "      <td>False</td>\n",
       "      <td>False</td>\n",
       "      <td>5866</td>\n",
       "      <td>5866</td>\n",
       "      <td>[{'user_id': 160, 'category': 'supporting', 'd...</td>\n",
       "    </tr>\n",
       "  </tbody>\n",
       "</table>\n",
       "<p>5 rows × 38 columns</p>\n",
       "</div>"
      ],
      "text/plain": [
       "         id                         observed_on_string  \\\n",
       "0  11479007                  2018-04-27 7:52:34 am BST   \n",
       "1  11480212                  2018-04-27 8:39:41 am BST   \n",
       "2  11480902  Fri Apr 27 2018 08:34:31 GMT+0100 (GMT+1)   \n",
       "3  11481097  Fri Apr 27 2018 09:54:35 GMT+0100 (GMT+1)   \n",
       "4  11482247                  2018-04-27 8:42:21 am BST   \n",
       "\n",
       "            time_observed_at created_time_zone                 created_at  \\\n",
       "0  2018-04-27T07:52:34+00:00           Etc/UTC  2018-04-27T07:06:17+00:00   \n",
       "1  2018-04-27T08:39:41+01:00     Europe/London  2018-04-27T09:02:52+01:00   \n",
       "2  2018-04-27T08:34:31+02:00  Europe/Amsterdam  2018-04-27T10:42:01+02:00   \n",
       "3  2018-04-27T09:54:35+02:00  Europe/Amsterdam  2018-04-27T10:54:45+02:00   \n",
       "4  2018-04-27T08:42:21+01:00     Europe/London  2018-04-27T11:09:55+01:00   \n",
       "\n",
       "                  updated_at description  user_id       user_login  \\\n",
       "0  2018-04-27T09:26:56+00:00         NaN   159021             muki   \n",
       "1  2019-01-29T21:16:34+00:00         NaN   664459  lucyrobinsonnhm   \n",
       "2  2018-04-27T13:01:49+02:00         NaN   908315           tess26   \n",
       "3  2018-04-27T22:23:41+02:00         NaN   796473      bryonycross   \n",
       "4  2018-04-27T16:37:31+01:00         NaN   664459  lucyrobinsonnhm   \n",
       "\n",
       "  quality_grade  ... preferred_common_name  iconic_taxon_name  taxon_rank  \\\n",
       "0      research  ...      lesser celandine            Plantae     species   \n",
       "1      research  ...          Feral Pigeon               Aves     variety   \n",
       "2        casual  ...      Spanish Bluebell            Plantae     species   \n",
       "3      research  ...         Green Alkanet            Plantae     species   \n",
       "4      research  ...          London Plane            Plantae      hybrid   \n",
       "\n",
       "   taxon_parent_id  taxon_native  taxon_endemic  taxon_threatened  \\\n",
       "0           204212          True          False             False   \n",
       "1             3017         False          False             False   \n",
       "2            56095         False          False             False   \n",
       "3           156638         False          False             False   \n",
       "4            49664         False          False             False   \n",
       "\n",
       "  taxon_search_rank taxon_observations  \\\n",
       "0             27624              27624   \n",
       "1             43329              43329   \n",
       "2              2813               2813   \n",
       "3              4639               4639   \n",
       "4              5866               5866   \n",
       "\n",
       "                                     identifications  \n",
       "0  [{'user_id': 353381, 'category': 'improving', ...  \n",
       "1  [{'user_id': 29729, 'category': 'supporting', ...  \n",
       "2  [{'user_id': 908315, 'category': 'leading', 'd...  \n",
       "3  [{'user_id': 160, 'category': 'improving', 'di...  \n",
       "4  [{'user_id': 160, 'category': 'supporting', 'd...  \n",
       "\n",
       "[5 rows x 38 columns]"
      ]
     },
     "execution_count": 2,
     "metadata": {},
     "output_type": "execute_result"
    }
   ],
   "source": [
    "# import datasets\n",
    "from collections import defaultdict\n",
    "dfs = defaultdict(dict)\n",
    "dfall = []\n",
    "\n",
    "for city, years in cities_years.items():\n",
    "    for year in years:\n",
    "        print(\"Loading: \", city, year)\n",
    "        df = pd.read_csv(\"data/CNC_{}_{}.csv\".format(city, year))\n",
    "        dfs[city][year] = df\n",
    "        dfall.append(df)\n",
    "\n",
    "dfall = pd.concat(dfall)\n",
    "dfs['London'][2018].head()"
   ]
  },
  {
   "cell_type": "markdown",
   "id": "young-missouri",
   "metadata": {},
   "source": [
    " Calculate total number of observations in all CNCs"
   ]
  },
  {
   "cell_type": "code",
   "execution_count": 4,
   "id": "wired-console",
   "metadata": {},
   "outputs": [
    {
     "name": "stdout",
     "output_type": "stream",
     "text": [
      "Sum of observations of all CNCs: 244484\n"
     ]
    }
   ],
   "source": [
    "# total count of observations in all CNCs\n",
    "all_obs = len(dfall)\n",
    "print('Sum of observations of all CNCs:', all_obs)"
   ]
  },
  {
   "cell_type": "code",
   "execution_count": 5,
   "id": "raised-nigeria",
   "metadata": {},
   "outputs": [
    {
     "name": "stdout",
     "output_type": "stream",
     "text": [
      "Total number of participants over all CNCs: 11300\n"
     ]
    }
   ],
   "source": [
    "# count of different users who participated in the CNCs (counting each user only once, even if they participated in more than one challenge)\n",
    "users_unique = len(dfall['user_id'].value_counts())\n",
    "print('Total number of participants over all CNCs:', users_unique)"
   ]
  },
  {
   "cell_type": "code",
   "execution_count": 6,
   "id": "governmental-calculator",
   "metadata": {},
   "outputs": [
    {
     "name": "stdout",
     "output_type": "stream",
     "text": [
      "London 2018 :\n",
      "user count: 108\n",
      "     user_id  obs_count\n",
      "0     353381        567\n",
      "1     664459        150\n",
      "2     911337        125\n",
      "3     883351         97\n",
      "4     781146         95\n",
      "..       ...        ...\n",
      "103   922075          1\n",
      "104   868893          1\n",
      "105  2089713          1\n",
      "106   963377          1\n",
      "107   921599          1\n",
      "\n",
      "[108 rows x 2 columns]\n",
      "London 2019 :\n",
      "user count: 284\n",
      "     user_id  obs_count\n",
      "0     353381       1085\n",
      "1    1358449        219\n",
      "2     923147        202\n",
      "3     894051        163\n",
      "4     781146        145\n",
      "..       ...        ...\n",
      "279  1697437          1\n",
      "280  1680973          1\n",
      "281  1680773          1\n",
      "282  1674540          1\n",
      "283   919443          1\n",
      "\n",
      "[284 rows x 2 columns]\n",
      "London 2020 :\n",
      "user count: 572\n",
      "     user_id  obs_count\n",
      "0    1488476        355\n",
      "1    2782355        299\n",
      "2     353381        274\n",
      "3    1624432        185\n",
      "4     908569        183\n",
      "..       ...        ...\n",
      "567  2783321          1\n",
      "568  2826298          1\n",
      "569   663534          1\n",
      "570  2678730          1\n",
      "571  2142376          1\n",
      "\n",
      "[572 rows x 2 columns]\n",
      "Los_Angeles 2017 :\n",
      "user count: 892\n",
      "     user_id  obs_count\n",
      "0      34687       1109\n",
      "1      21786       1058\n",
      "2      35725        707\n",
      "3     235118        693\n",
      "4     223005        612\n",
      "..       ...        ...\n",
      "887   453611          1\n",
      "888   457577          1\n",
      "889   508069          1\n",
      "890   453435          1\n",
      "891   405498          1\n",
      "\n",
      "[892 rows x 2 columns]\n",
      "Los_Angeles 2018 :\n",
      "user count: 902\n",
      "     user_id  obs_count\n",
      "0      12809       1414\n",
      "1      34687        960\n",
      "2     223005        767\n",
      "3     220795        616\n",
      "4      21786        599\n",
      "..       ...        ...\n",
      "897   417054          1\n",
      "898  2039094          1\n",
      "899  1203088          1\n",
      "900   193963          1\n",
      "901   912810          1\n",
      "\n",
      "[902 rows x 2 columns]\n",
      "Los_Angeles 2019 :\n",
      "user count: 1611\n",
      "      user_id  obs_count\n",
      "0       12809       1189\n",
      "1       34687       1059\n",
      "2       81779        825\n",
      "3      223005        810\n",
      "4      617101        810\n",
      "...       ...        ...\n",
      "1606  1685743          1\n",
      "1607   655512          1\n",
      "1608  2170381          1\n",
      "1609  1675370          1\n",
      "1610   182103          1\n",
      "\n",
      "[1611 rows x 2 columns]\n",
      "Los_Angeles 2020 :\n",
      "user count: 1685\n",
      "      user_id  obs_count\n",
      "0      154824        720\n",
      "1      421748        574\n",
      "2      223005        505\n",
      "3       34687        444\n",
      "4       35725        408\n",
      "...       ...        ...\n",
      "1680  1406628          1\n",
      "1681  2856648          1\n",
      "1682   638227          1\n",
      "1683  1992422          1\n",
      "1684   216730          1\n",
      "\n",
      "[1685 rows x 2 columns]\n",
      "San_Francisco 2017 :\n",
      "user count: 779\n",
      "     user_id  obs_count\n",
      "0      17796       1145\n",
      "1      16101        891\n",
      "2       3342        626\n",
      "3        819        586\n",
      "4       2991        582\n",
      "..       ...        ...\n",
      "774   427387          1\n",
      "775    42351          1\n",
      "776   437614          1\n",
      "777   447809          1\n",
      "778   756253          1\n",
      "\n",
      "[779 rows x 2 columns]\n",
      "San_Francisco 2018 :\n",
      "user count: 1755\n",
      "      user_id  obs_count\n",
      "0        2991        889\n",
      "1       16101        600\n",
      "2        4862        598\n",
      "3       34038        588\n",
      "4       17796        588\n",
      "...       ...        ...\n",
      "1750   732809          1\n",
      "1751   929129          1\n",
      "1752   741586          1\n",
      "1753  1081736          1\n",
      "1754   923683          1\n",
      "\n",
      "[1755 rows x 2 columns]\n",
      "San_Francisco 2019 :\n",
      "user count: 2154\n",
      "      user_id  obs_count\n",
      "0        2991        735\n",
      "1       34038        699\n",
      "2        8778        612\n",
      "3        3494        558\n",
      "4       46415        541\n",
      "...       ...        ...\n",
      "2149  1340479          1\n",
      "2150  1674592          1\n",
      "2151   986480          1\n",
      "2152  1582549          1\n",
      "2153  1659354          1\n",
      "\n",
      "[2154 rows x 2 columns]\n",
      "San_Francisco 2020 :\n",
      "user count: 2700\n",
      "      user_id  obs_count\n",
      "0        7302        517\n",
      "1       46415        499\n",
      "2       17796        455\n",
      "3       34038        441\n",
      "4        3342        422\n",
      "...       ...        ...\n",
      "2695  1694417          1\n",
      "2696  1501895          1\n",
      "2697   754362          1\n",
      "2698  2550105          1\n",
      "2699   174075          1\n",
      "\n",
      "[2700 rows x 2 columns]\n"
     ]
    }
   ],
   "source": [
    "# count of total participants of the CNCs (counting users as new users for each CNC, if they participated in more than one)\n",
    "users_total = 0\n",
    "# dataframe for observations per user over all CNCs (counting users as new users for each CNC, if they participated in more than one)\n",
    "dfall2 = []\n",
    "\n",
    "for city, years in cities_years.items():\n",
    "    for year in years:\n",
    "        print(city, year, ':')\n",
    "        # user count over all CNCS (users who participated in several CNCs are counted as new users for each event)\n",
    "        df_obs_per_user = dfs[city][year]['user_id'].value_counts()\n",
    "        print('user count:', len(df_obs_per_user))\n",
    "        users_total += len(df_obs_per_user)\n",
    "        df_obs_per_user = df_obs_per_user.rename_axis('user_id').reset_index(name='obs_count')\n",
    "        print(df_obs_per_user)\n",
    "        dfall2.append(df_obs_per_user)"
   ]
  },
  {
   "cell_type": "code",
   "execution_count": null,
   "id": "turkish-digest",
   "metadata": {},
   "outputs": [],
   "source": []
  },
  {
   "cell_type": "code",
   "execution_count": 7,
   "id": "little-porcelain",
   "metadata": {},
   "outputs": [
    {
     "name": "stdout",
     "output_type": "stream",
     "text": [
      "2142\n"
     ]
    }
   ],
   "source": [
    "# users who participated in more than one challenge\n",
    "print(users_total - users_unique)"
   ]
  },
  {
   "cell_type": "code",
   "execution_count": 8,
   "id": "imported-afghanistan",
   "metadata": {},
   "outputs": [
    {
     "name": "stdout",
     "output_type": "stream",
     "text": [
      "total user count: 13442\n"
     ]
    }
   ],
   "source": [
    "print('total user count:', users_total)\n",
    "# observations per user, summed up over all CNCs\n",
    "\n",
    "# Histogram of observations per user for all CNCs\n",
    "\n",
    "# make log plot from histogram"
   ]
  },
  {
   "cell_type": "code",
   "execution_count": 9,
   "id": "furnished-vegetable",
   "metadata": {},
   "outputs": [
    {
     "data": {
      "text/plain": [
       "(13442, 2)"
      ]
     },
     "execution_count": 9,
     "metadata": {},
     "output_type": "execute_result"
    }
   ],
   "source": [
    "dfall2 = pd.concat(dfall2)\n",
    "dfall2.shape"
   ]
  },
  {
   "cell_type": "code",
   "execution_count": 10,
   "id": "answering-timeline",
   "metadata": {},
   "outputs": [
    {
     "data": {
      "image/png": "[encoded data removed]",
      "text/plain": [
       "<Figure size 432x288 with 1 Axes>"
      ]
     },
     "metadata": {
      "needs_background": "light"
     },
     "output_type": "display_data"
    }
   ],
   "source": [
    "import matplotlib as plt\n",
    "\n",
    "ax = dfall2.hist(column='obs_count')"
   ]
  },
  {
   "cell_type": "code",
   "execution_count": 13,
   "id": "quantitative-activation",
   "metadata": {},
   "outputs": [
    {
     "data": {
      "text/plain": [
       "<seaborn.axisgrid.FacetGrid at 0x2783f883af0>"
      ]
     },
     "execution_count": 13,
     "metadata": {},
     "output_type": "execute_result"
    },
    {
     "data": {
      "image/png": "[encoded data removed]",
      "text/plain": [
       "<Figure size 360x360 with 1 Axes>"
      ]
     },
     "metadata": {
      "needs_background": "light"
     },
     "output_type": "display_data"
    }
   ],
   "source": [
    "import seaborn as sns\n",
    "\n",
    "ax = sns.displot(data=dfall2, x=\"obs_count\", log_scale=True)\n",
    "ax.set(xlabel='observation count', ylabel='count')"
   ]
  },
  {
   "cell_type": "code",
   "execution_count": 15,
   "id": "educated-broadway",
   "metadata": {},
   "outputs": [
    {
     "data": {
      "text/plain": [
       "<seaborn.axisgrid.FacetGrid at 0x2785068b0d0>"
      ]
     },
     "execution_count": 15,
     "metadata": {},
     "output_type": "execute_result"
    },
    {
     "data": {
      "image/png": "[encoded data removed]",
      "text/plain": [
       "<Figure size 360x360 with 1 Axes>"
      ]
     },
     "metadata": {
      "needs_background": "light"
     },
     "output_type": "display_data"
    }
   ],
   "source": [
    "import seaborn as sns\n",
    "\n",
    "ax = sns.displot(data=dfall2, x=\"obs_count\", log_scale=True)\n",
    "ax.set(xlabel='observation count', ylabel='frequency')"
   ]
  },
  {
   "cell_type": "code",
   "execution_count": null,
   "id": "third-robin",
   "metadata": {},
   "outputs": [],
   "source": []
  }
 ],
 "metadata": {
  "kernelspec": {
   "display_name": "Python 3",
   "language": "python",
   "name": "python3"
  },
  "language_info": {
   "codemirror_mode": {
    "name": "ipython",
    "version": 3
   },
   "file_extension": ".py",
   "mimetype": "text/x-python",
   "name": "python",
   "nbconvert_exporter": "python",
   "pygments_lexer": "ipython3",
   "version": "3.9.2"
  }
 },
 "nbformat": 4,
 "nbformat_minor": 5
}
