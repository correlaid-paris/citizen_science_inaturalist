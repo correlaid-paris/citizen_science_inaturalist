{
 "cells": [
  {
   "cell_type": "code",
   "execution_count": 2,
   "metadata": {
    "_cell_guid": "b1076dfc-b9ad-4769-8c92-a6c4dae69d19",
    "_uuid": "8f2839f25d086af736a60e9eeb907d3b93b6e0e5",
    "tags": []
   },
   "outputs": [],
   "source": [
    "import pandas as pd\n",
    "import seaborn as sns\n",
    "import numpy as np\n",
    "import calendar\n",
    "import datetime\n",
    "\n",
    "import matplotlib.pyplot as plt\n",
    "import seaborn\n",
    "\n",
    "import warnings\n",
    "warnings.filterwarnings(\"ignore\")"
   ]
  },
  {
   "cell_type": "code",
   "execution_count": 25,
   "metadata": {
    "tags": []
   },
   "outputs": [],
   "source": [
    "sf_2019_1 = pd.read_csv('data_activity/sf_2019-01-03.csv')\n",
    "sf_2019_2 = pd.read_csv('data_activity/sf_2019-04-06.csv')\n",
    "sf_2019_3 = pd.read_csv('data_activity/sf_2019-07-12.csv')\n",
    "sf_2018_1 = pd.read_csv('data_activity/sf_2018-01-03.csv')\n",
    "sf_2018_2 = pd.read_csv('data_activity/sf_2018-04-06.csv')\n",
    "sf_2018_3 = pd.read_csv('data_activity/sf_2018-07-10.csv')\n",
    "sf_2017 = pd.read_csv('data_activity/sf_2017-01-12.csv')\n",
    "sf_2020_1 = pd.read_csv('data_activity/sf_2020-01-06.csv')\n",
    "sf_2020_2 = pd.read_csv('data_activity/sf_2020-07-12.csv')"
   ]
  },
  {
   "cell_type": "code",
   "execution_count": 4,
   "metadata": {
    "tags": []
   },
   "outputs": [],
   "source": [
    "challenge_2017 = pd.read_csv('data/CNC_San_Francisco_2017.csv')\n",
    "challenge_2018 = pd.read_csv('data/CNC_San_Francisco_2018.csv')\n",
    "challenge_2019 = pd.read_csv('data/CNC_San_Francisco_2019.csv')\n",
    "challenge_2020 = pd.read_csv('data/CNC_San_Francisco_2020.csv')"
   ]
  },
  {
   "cell_type": "code",
   "execution_count": 26,
   "metadata": {
    "tags": []
   },
   "outputs": [],
   "source": [
    "df = pd.concat([sf_2019_1, sf_2019_2, sf_2019_3, sf_2018_1, sf_2018_2, sf_2018_3, sf_2017, sf_2020_1, sf_2020_2], axis = 0)\n",
    "print('done')\n"
   ]
  },
  {
   "cell_type": "code",
   "execution_count": 6,
   "metadata": {
    "tags": []
   },
   "outputs": [
    {
     "name": "stdout",
     "output_type": "stream",
     "text": [
      "done\n"
     ]
    }
   ],
   "source": [
    "challenge_full = pd.concat([challenge_2017, challenge_2018, challenge_2019, challenge_2020])\n",
    "\n",
    "print('done')"
   ]
  },
  {
   "cell_type": "code",
   "execution_count": 8,
   "metadata": {},
   "outputs": [],
   "source": []
  },
  {
   "cell_type": "code",
   "execution_count": 28,
   "metadata": {
    "tags": []
   },
   "outputs": [
    {
     "data": {
      "text/html": [
       "<div>\n",
       "<style scoped>\n",
       "    .dataframe tbody tr th:only-of-type {\n",
       "        vertical-align: middle;\n",
       "    }\n",
       "\n",
       "    .dataframe tbody tr th {\n",
       "        vertical-align: top;\n",
       "    }\n",
       "\n",
       "    .dataframe thead th {\n",
       "        text-align: right;\n",
       "    }\n",
       "</style>\n",
       "<table border=\"1\" class=\"dataframe\">\n",
       "  <thead>\n",
       "    <tr style=\"text-align: right;\">\n",
       "      <th></th>\n",
       "      <th>captive</th>\n",
       "      <th>created_at</th>\n",
       "      <th>created_time_zone</th>\n",
       "      <th>description</th>\n",
       "      <th>faves_count</th>\n",
       "      <th>geoprivacy</th>\n",
       "      <th>iconic_taxon_name</th>\n",
       "      <th>id</th>\n",
       "      <th>identifications</th>\n",
       "      <th>identifications_most_agree</th>\n",
       "      <th>...</th>\n",
       "      <th>taxon_observations</th>\n",
       "      <th>taxon_parent_id</th>\n",
       "      <th>taxon_rank</th>\n",
       "      <th>taxon_search_rank</th>\n",
       "      <th>taxon_threatened</th>\n",
       "      <th>time_observed_at</th>\n",
       "      <th>updated_at</th>\n",
       "      <th>user_id</th>\n",
       "      <th>user_login</th>\n",
       "      <th>date</th>\n",
       "    </tr>\n",
       "  </thead>\n",
       "  <tbody>\n",
       "    <tr>\n",
       "      <th>0</th>\n",
       "      <td>False</td>\n",
       "      <td>2014-03-28T11:14:18-07:00</td>\n",
       "      <td>America/Los_Angeles</td>\n",
       "      <td>NaN</td>\n",
       "      <td>0</td>\n",
       "      <td>NaN</td>\n",
       "      <td>Insecta</td>\n",
       "      <td>586716</td>\n",
       "      <td>[{'user_id': 477, 'category': 'improving', 'di...</td>\n",
       "      <td>True</td>\n",
       "      <td>...</td>\n",
       "      <td>44543.0</td>\n",
       "      <td>51703.0</td>\n",
       "      <td>species</td>\n",
       "      <td>44543.0</td>\n",
       "      <td>False</td>\n",
       "      <td>2019-03-08T11:10:00-08:00</td>\n",
       "      <td>2019-03-08T18:08:36-08:00</td>\n",
       "      <td>33895</td>\n",
       "      <td>rlaporte</td>\n",
       "      <td>2019-03-08 19:10:00+00:00</td>\n",
       "    </tr>\n",
       "    <tr>\n",
       "      <th>1</th>\n",
       "      <td>True</td>\n",
       "      <td>2017-05-10T10:30:04-07:00</td>\n",
       "      <td>America/Los_Angeles</td>\n",
       "      <td>- long skinny stocks \\r\\n- small yellow buds \\...</td>\n",
       "      <td>0</td>\n",
       "      <td>NaN</td>\n",
       "      <td>Plantae</td>\n",
       "      <td>6161491</td>\n",
       "      <td>[{'user_id': 1, 'category': 'leading', 'disagr...</td>\n",
       "      <td>False</td>\n",
       "      <td>...</td>\n",
       "      <td>98639.0</td>\n",
       "      <td>548591.0</td>\n",
       "      <td>genus</td>\n",
       "      <td>98639.0</td>\n",
       "      <td>False</td>\n",
       "      <td>2019-03-13T10:25:53-07:00</td>\n",
       "      <td>2019-05-19T10:49:13-07:00</td>\n",
       "      <td>477473</td>\n",
       "      <td>mialauer</td>\n",
       "      <td>2019-03-13 17:25:53+00:00</td>\n",
       "    </tr>\n",
       "    <tr>\n",
       "      <th>2</th>\n",
       "      <td>False</td>\n",
       "      <td>2017-05-10T11:34:29-07:00</td>\n",
       "      <td>America/Los_Angeles</td>\n",
       "      <td>- talons on legs\\r\\n- large\\r\\n- striped segme...</td>\n",
       "      <td>0</td>\n",
       "      <td>NaN</td>\n",
       "      <td>Insecta</td>\n",
       "      <td>6162066</td>\n",
       "      <td>[{'user_id': 373869, 'category': 'improving', ...</td>\n",
       "      <td>True</td>\n",
       "      <td>...</td>\n",
       "      <td>16959.0</td>\n",
       "      <td>523728.0</td>\n",
       "      <td>genus</td>\n",
       "      <td>16959.0</td>\n",
       "      <td>False</td>\n",
       "      <td>2019-03-04T11:15:22-08:00</td>\n",
       "      <td>2020-05-21T21:13:40-07:00</td>\n",
       "      <td>477473</td>\n",
       "      <td>mialauer</td>\n",
       "      <td>2019-03-04 19:15:22+00:00</td>\n",
       "    </tr>\n",
       "    <tr>\n",
       "      <th>3</th>\n",
       "      <td>False</td>\n",
       "      <td>2017-05-10T11:34:35-07:00</td>\n",
       "      <td>America/Los_Angeles</td>\n",
       "      <td>- two eyes sprouting from body underneath shel...</td>\n",
       "      <td>0</td>\n",
       "      <td>NaN</td>\n",
       "      <td>Mollusca</td>\n",
       "      <td>6162070</td>\n",
       "      <td>[{'user_id': 373869, 'category': 'improving', ...</td>\n",
       "      <td>True</td>\n",
       "      <td>...</td>\n",
       "      <td>29427.0</td>\n",
       "      <td>87634.0</td>\n",
       "      <td>species</td>\n",
       "      <td>29427.0</td>\n",
       "      <td>False</td>\n",
       "      <td>2019-03-17T11:28:28-07:00</td>\n",
       "      <td>2019-05-19T10:52:12-07:00</td>\n",
       "      <td>477473</td>\n",
       "      <td>mialauer</td>\n",
       "      <td>2019-03-17 18:28:28+00:00</td>\n",
       "    </tr>\n",
       "    <tr>\n",
       "      <th>4</th>\n",
       "      <td>False</td>\n",
       "      <td>2017-05-10T11:34:44-07:00</td>\n",
       "      <td>America/Los_Angeles</td>\n",
       "      <td>- broken wing\\r\\n- small legs\\r\\n- brown pigme...</td>\n",
       "      <td>0</td>\n",
       "      <td>NaN</td>\n",
       "      <td>Insecta</td>\n",
       "      <td>6162071</td>\n",
       "      <td>[{'user_id': 373869, 'category': 'improving', ...</td>\n",
       "      <td>True</td>\n",
       "      <td>...</td>\n",
       "      <td>4866.0</td>\n",
       "      <td>1081313.0</td>\n",
       "      <td>species</td>\n",
       "      <td>4866.0</td>\n",
       "      <td>False</td>\n",
       "      <td>2019-03-16T11:10:41-07:00</td>\n",
       "      <td>2020-05-17T16:51:04-07:00</td>\n",
       "      <td>477473</td>\n",
       "      <td>mialauer</td>\n",
       "      <td>2019-03-16 18:10:41+00:00</td>\n",
       "    </tr>\n",
       "  </tbody>\n",
       "</table>\n",
       "<p>5 rows × 39 columns</p>\n",
       "</div>"
      ],
      "text/plain": [
       "   captive                 created_at    created_time_zone  \\\n",
       "0    False  2014-03-28T11:14:18-07:00  America/Los_Angeles   \n",
       "1     True  2017-05-10T10:30:04-07:00  America/Los_Angeles   \n",
       "2    False  2017-05-10T11:34:29-07:00  America/Los_Angeles   \n",
       "3    False  2017-05-10T11:34:35-07:00  America/Los_Angeles   \n",
       "4    False  2017-05-10T11:34:44-07:00  America/Los_Angeles   \n",
       "\n",
       "                                         description  faves_count geoprivacy  \\\n",
       "0                                                NaN            0        NaN   \n",
       "1  - long skinny stocks \\r\\n- small yellow buds \\...            0        NaN   \n",
       "2  - talons on legs\\r\\n- large\\r\\n- striped segme...            0        NaN   \n",
       "3  - two eyes sprouting from body underneath shel...            0        NaN   \n",
       "4  - broken wing\\r\\n- small legs\\r\\n- brown pigme...            0        NaN   \n",
       "\n",
       "  iconic_taxon_name       id  \\\n",
       "0           Insecta   586716   \n",
       "1           Plantae  6161491   \n",
       "2           Insecta  6162066   \n",
       "3          Mollusca  6162070   \n",
       "4           Insecta  6162071   \n",
       "\n",
       "                                     identifications  \\\n",
       "0  [{'user_id': 477, 'category': 'improving', 'di...   \n",
       "1  [{'user_id': 1, 'category': 'leading', 'disagr...   \n",
       "2  [{'user_id': 373869, 'category': 'improving', ...   \n",
       "3  [{'user_id': 373869, 'category': 'improving', ...   \n",
       "4  [{'user_id': 373869, 'category': 'improving', ...   \n",
       "\n",
       "   identifications_most_agree  ...  taxon_observations  taxon_parent_id  \\\n",
       "0                        True  ...             44543.0          51703.0   \n",
       "1                       False  ...             98639.0         548591.0   \n",
       "2                        True  ...             16959.0         523728.0   \n",
       "3                        True  ...             29427.0          87634.0   \n",
       "4                        True  ...              4866.0        1081313.0   \n",
       "\n",
       "   taxon_rank  taxon_search_rank  taxon_threatened           time_observed_at  \\\n",
       "0     species            44543.0             False  2019-03-08T11:10:00-08:00   \n",
       "1       genus            98639.0             False  2019-03-13T10:25:53-07:00   \n",
       "2       genus            16959.0             False  2019-03-04T11:15:22-08:00   \n",
       "3     species            29427.0             False  2019-03-17T11:28:28-07:00   \n",
       "4     species             4866.0             False  2019-03-16T11:10:41-07:00   \n",
       "\n",
       "                  updated_at user_id user_login                      date  \n",
       "0  2019-03-08T18:08:36-08:00   33895   rlaporte 2019-03-08 19:10:00+00:00  \n",
       "1  2019-05-19T10:49:13-07:00  477473   mialauer 2019-03-13 17:25:53+00:00  \n",
       "2  2020-05-21T21:13:40-07:00  477473   mialauer 2019-03-04 19:15:22+00:00  \n",
       "3  2019-05-19T10:52:12-07:00  477473   mialauer 2019-03-17 18:28:28+00:00  \n",
       "4  2020-05-17T16:51:04-07:00  477473   mialauer 2019-03-16 18:10:41+00:00  \n",
       "\n",
       "[5 rows x 39 columns]"
      ]
     },
     "execution_count": 28,
     "metadata": {},
     "output_type": "execute_result"
    }
   ],
   "source": [
    "#df.to_csv('full_df.csv')\n",
    "df.head()"
   ]
  },
  {
   "cell_type": "code",
   "execution_count": 27,
   "metadata": {
    "tags": []
   },
   "outputs": [],
   "source": [
    "df['date'] = pd.to_datetime(df['time_observed_at'], errors='coerce', utc = True)"
   ]
  },
  {
   "cell_type": "code",
   "execution_count": 29,
   "metadata": {
    "tags": []
   },
   "outputs": [],
   "source": [
    "df['date'] = df['date'].dt.tz_convert('US/Pacific')"
   ]
  },
  {
   "cell_type": "code",
   "execution_count": 30,
   "metadata": {
    "tags": []
   },
   "outputs": [],
   "source": [
    "df['month'] = df['date'].dt.month\n",
    "df['day'] = df['date'].dt.day\n",
    "df['year'] = df['date'].dt.year"
   ]
  },
  {
   "cell_type": "code",
   "execution_count": 31,
   "metadata": {
    "tags": []
   },
   "outputs": [],
   "source": [
    "sf_4_2019 = df[(df['month'] == 4) & (df['year'] == 2019)]"
   ]
  },
  {
   "cell_type": "code",
   "execution_count": 32,
   "metadata": {},
   "outputs": [],
   "source": [
    "sf_4_2019.to_csv('sf_4_2019.csv')"
   ]
  },
  {
   "cell_type": "code",
   "execution_count": 14,
   "metadata": {},
   "outputs": [],
   "source": [
    "#challenge_2019['date'] = pd.to_datetime(challenge_2019['time_observed_at'], errors='coerce')\n",
    "#challenge_2019['month'] = challenge_2019['date'].dt.month\n",
    "#challenge_2019['day'] = challenge_2019['date'].dt.day\n",
    "#challenge_2019['year'] = challenge_2019['date'].dt.year"
   ]
  },
  {
   "cell_type": "code",
   "execution_count": 33,
   "metadata": {
    "tags": []
   },
   "outputs": [],
   "source": [
    "df = df.dropna(subset = ['time_observed_at'])"
   ]
  },
  {
   "cell_type": "code",
   "execution_count": 16,
   "metadata": {},
   "outputs": [],
   "source": [
    "#df['year_month'] = df.year.astype(int).astype(str) + '-' + df.month.astype(int).astype(str)"
   ]
  },
  {
   "cell_type": "code",
   "execution_count": 17,
   "metadata": {},
   "outputs": [],
   "source": [
    "#df_ident = pd.DataFrame()\n",
    "    \n",
    "#for _, row in df.iterrows():\n",
    "#    idents = row['identifications']\n",
    "#    if pd.isnull(idents) == False:\n",
    "#        df_temp = pd.DataFrame(eval(idents))\n",
    "#        df_temp['target'] = np.repeat(row['user_id'], df_temp.shape[0])\n",
    "#        df_ident = df_ident.append(df_temp)"
   ]
  },
  {
   "cell_type": "code",
   "execution_count": 34,
   "metadata": {
    "tags": []
   },
   "outputs": [],
   "source": [
    "def addMonths(d, x):\n",
    "    \n",
    "    newmonth = (((d.month - 1) + x) % 12) + 1\n",
    "    newyear  = d.year + (((d.month - 1) + x) // 12)\n",
    "    \n",
    "    return newmonth, newyear"
   ]
  },
  {
   "cell_type": "code",
   "execution_count": 48,
   "metadata": {
    "tags": []
   },
   "outputs": [],
   "source": [
    "def analyze_attrition(df, year, window, first_m, last_m, draw = True, y_axis = 'percent'):\n",
    "    '''\n",
    "    The function claculates attrition of new users coming to the platform \n",
    "    \n",
    "    Attribute:\n",
    "        df - Pandas DataFrame with all years combined\n",
    "        year - int value: identifies the year of analysis\n",
    "        window - int value: identifies the timeframe (number of months) for how many months the users of our interest stayed on the platform. \n",
    "        first_m, last_m - int values: identifies the timeframe of the analysis\n",
    "        draw - Boolean value: if True, the function returns the chart for the chosen timeframe; if False, the function returns a Pandas DataFrame\n",
    "        y_axis - categorical value (percent or num_users): percent returns percentages, num_users returns absolute counts\n",
    "        \n",
    "    Returns:\n",
    "        Seaborn chart of Pandas DataFrame (depends on the chosen value for 'draw' argument)\n",
    "    '''\n",
    "    sns.set_style(\"whitegrid\")\n",
    "\n",
    "    df_year = df[df['year'] >= year]\n",
    "    final_df = pd.DataFrame()\n",
    "    \n",
    "    for month in range(1, 13):\n",
    "        \n",
    "        this_month = str(year) + '-' + str(month) + '-' + str(1)\n",
    "        existing_users = df[df['date'] < this_month]['user_id'].unique()\n",
    "        users = df_year[df_year['month'] == month]['user_id'].unique()\n",
    "        new_users = np.setdiff1d(users, existing_users)\n",
    "        number = len(new_users)\n",
    "        \n",
    "        first_month = addMonths(datetime.datetime(year, month, 1), 1)[0]\n",
    "        first_year = addMonths(datetime.datetime(year, month, 1), 1)[1]\n",
    "        first_date = str(first_year) + '-' + str(first_month) + '-' + str(1)\n",
    "        \n",
    "        last_month = addMonths(datetime.datetime(year, month, 1), window)[0]\n",
    "        last_year = addMonths(datetime.datetime(year, month, 1), window)[1]\n",
    "        if month + window == 12:\n",
    "            last_date = str(year + 1) + '-' + str(1) + '-' + str(1)\n",
    "        else:\n",
    "            last_date = str(last_year) + '-' + str(last_month + 1) + '-' + str(1)\n",
    "\n",
    "        window_df = df_year[(df_year['date'] >= first_date) & \n",
    "                            (df_year['date'] <= last_date) & \n",
    "                         (df_year['user_id'].isin(new_users))]\n",
    "\n",
    "        users_months = window_df.groupby(['user_id', 'month'])['id'].count().reset_index()\n",
    "        activity_after = users_months['user_id'].value_counts().reset_index()['user_id'].value_counts().reset_index()\n",
    "        activity_after.columns = ['num_months', 'num_users']\n",
    "        activity_after['month'] = np.repeat(month, activity_after.shape[0])\n",
    "        new_row = {'num_months' : 0, 'num_users' : number - activity_after['num_users'].sum(), 'month' : month}\n",
    "        activity_after = activity_after.append(new_row, ignore_index=True)\n",
    "        activity_after['percent'] = np.round((np.array(activity_after['num_users']) / number) * 100, 0)\n",
    "\n",
    "        final_df = pd.concat([final_df, activity_after])\n",
    "        \n",
    "    final_df['Month'] = final_df['month'].astype('str')\n",
    "    \n",
    "    months_sums = final_df.groupby('Month')['num_users'].sum()\n",
    "    \n",
    "    months = {'1' : 'January'+ ' ' + str(year) + '\\n(N = ' + str(months_sums['1']) + ')', \n",
    "              '2' : 'February' + ' ' + str(year) + '\\n(N = ' + str(months_sums['2']) + ')', \n",
    "              '3' : 'March'+ ' ' + str(year) + '\\n(N = ' + str(months_sums['3']) + ')', \n",
    "              '4' : 'April'+ ' ' + str(year) + '\\n(N = ' + str(months_sums['4']) + ')', \n",
    "              '5' : 'May'+ ' ' + str(year) + '\\n(N = ' + str(months_sums['5']) + ')', \n",
    "              '6': 'June'+ ' ' + str(year) + '\\n(N = ' + str(months_sums['6']) + ')', \n",
    "              '7': 'July'+ ' ' + str(year) + '\\n(N = ' + str(months_sums['7']) + ')', \n",
    "              '8': 'August'+ ' ' + str(year) + '\\n(N = ' + str(months_sums['8']) + ')', \n",
    "              '9': 'September'+ ' ' + str(year) + '\\n(N = ' + str(months_sums['9']) + ')', \n",
    "              '10': 'October'+ ' ' + str(year) + '\\n(N = ' + str(months_sums['10']) + ')', \n",
    "              '11': 'November'+ ' ' + str(year) + '\\n(N = ' + str(months_sums['11']) + ')', \n",
    "              '12': 'December'+ ' ' + str(year) + '\\n(N = ' + str(months_sums['12']) + ')'} \n",
    "    \n",
    "    final_df['Month']= final_df['Month'].map(months) \n",
    "    final_df = final_df[(final_df['month'] >= first_m) & (final_df['month'] <= last_m)]\n",
    "    \n",
    "    if draw: \n",
    "        sns.set_style(\"whitegrid\")\n",
    "        sns.set(rc={'figure.figsize':(11.7,8.27)})\n",
    "        sns.set_style(\"whitegrid\")\n",
    "\n",
    "        g = sns.catplot(x=\"num_months\", y = y_axis,  kind = 'bar', col_wrap=6, col = 'Month', color='b',\n",
    "                data=final_df, height=5.5, aspect=.8)\n",
    "        if y_axis == 'percent':\n",
    "            g.set_axis_labels(\"Number of months \\n users stayed on the platform\", \"Percentage of new users\")\n",
    "        else:\n",
    "            g.set_axis_labels(\"Number of months \\n users stayed on the platform\", \"Count of new users\")\n",
    "        return g\n",
    "        \n",
    "    else:\n",
    "        return final_df"
   ]
  },
  {
   "cell_type": "code",
   "execution_count": 50,
   "metadata": {
    "tags": []
   },
   "outputs": [
    {
     "data": {
      "image/png": "[encoded data removed]",
      "text/plain": [
       "<Figure size 1900.8x396 with 5 Axes>"
      ]
     },
     "metadata": {},
     "output_type": "display_data"
    }
   ],
   "source": [
    "sns.set_style(\"whitegrid\")\n",
    "\n",
    "sns_plot = analyze_attrition(df, year = 2018, window = 6, first_m = 2, last_m = 6, y_axis = 'percent', draw = True)\n",
    "sns_plot.savefig('sf_output_2018.png')"
   ]
  },
  {
   "cell_type": "code",
   "execution_count": 51,
   "metadata": {
    "tags": []
   },
   "outputs": [
    {
     "data": {
      "image/png": "[encoded data removed]",
      "text/plain": [
       "<Figure size 1900.8x396 with 5 Axes>"
      ]
     },
     "metadata": {},
     "output_type": "display_data"
    }
   ],
   "source": [
    "sns.set_style(\"whitegrid\")\n",
    "\n",
    "sns_plot = analyze_attrition(df, year = 2019, window = 6, first_m = 2, last_m = 6, y_axis = 'percent')\n",
    "sns_plot.savefig('sf_output_2019.svg')\n",
    "sns_plot.savefig('sf_output_2019.png')\n",
    "\n"
   ]
  },
  {
   "cell_type": "code",
   "execution_count": 52,
   "metadata": {
    "tags": []
   },
   "outputs": [
    {
     "data": {
      "image/png": "[encoded data removed]",
      "text/plain": [
       "<Figure size 1900.8x396 with 5 Axes>"
      ]
     },
     "metadata": {},
     "output_type": "display_data"
    }
   ],
   "source": [
    "sns.set_style(\"whitegrid\")\n",
    "\n",
    "sns_plot = analyze_attrition(df, year = 2020, window = 6, first_m = 2, last_m = 6, y_axis = 'percent')\n",
    "sns_plot.savefig('sf_output_2020.svg')\n",
    "sns_plot.savefig('sf_output_2020.svg')\n",
    "\n"
   ]
  },
  {
   "cell_type": "code",
   "execution_count": 61,
   "metadata": {
    "tags": []
   },
   "outputs": [],
   "source": [
    "def compare_users(df, year, window, draw = True, y_axis = 'percent', challenge_df = None):\n",
    "    '''\n",
    "    The function compares attrition for regular new users and participants of the challenge\n",
    "    \n",
    "    Attribute:\n",
    "        df - Pandas DataFrame with all years combined\n",
    "        year - int value: identifies the year of analysis\n",
    "        window - int value: identifies the timeframe (number of months) for how many months the users of our interest stayed on the platform. \n",
    "        draw - Boolean value: if True, the function returns the chart for the chosen timeframe; if False, the function returns a Pandas DataFrame\n",
    "        y_axis - categorical value (percent or num_users): percent returns percentages, num_users returns absolute counts\n",
    "        challenge_df = Pandas DataFrame with a certain challenge data\n",
    "        \n",
    "    Returns:\n",
    "        Seaborn chart of Pandas DataFrame (depends on the chosen value for 'draw' argument)\n",
    "    '''\n",
    "    \n",
    "    sns.set_style(\"whitegrid\")\n",
    "    \n",
    "    df_year = df[df['year'] >= year]\n",
    "    date = str(year)+ '-4-1'\n",
    "    existing_users = df[df['date'] < date]['user_id'].unique()\n",
    "    users = df_year[df_year['month'] == 4]['user_id'].unique()\n",
    "    new_users = np.setdiff1d(users, existing_users)\n",
    "    challenge_users = challenge_df['user_id'].unique()\n",
    "    not_challenge = np.setdiff1d(new_users, challenge_users)\n",
    "    num_challenge = len(challenge_users)\n",
    "    num_not_challenge = len(not_challenge)\n",
    "    \n",
    "    first_month = addMonths(datetime.datetime(year, 4, 1), 1)[0]\n",
    "    first_year = addMonths(datetime.datetime(year, 4, 1), 1)[1]\n",
    "    first_date = str(first_year) + '-' + str(first_month) + '-' + str(1)\n",
    "        \n",
    "    last_month = addMonths(datetime.datetime(year, 4, 1), window)[0]\n",
    "    last_year = addMonths(datetime.datetime(year, 4, 1), window)[1]\n",
    "    if 4 + window == 12:\n",
    "        last_date = str(year + 1) + '-' + str(1) + '-' + str(1)\n",
    "    else:\n",
    "        last_date = str(last_year) + '-' + str(last_month + 1) + '-' + str(1)\n",
    "    \n",
    "    window_df = df_year[(df_year['date'] >= first_date) & \n",
    "                    (df_year['date'] <= last_date) & \n",
    "                    (df_year['user_id'].isin(new_users))] \n",
    "    \n",
    "    window_df['challenge'] = window_df['user_id'].apply(lambda user: 'yes' if user in challenge_users else 'no')\n",
    "    obs_grouped = window_df.groupby(['user_id', 'month', 'challenge'])['id'].count().reset_index()\n",
    "    users_months = obs_grouped.groupby('challenge')['user_id'].value_counts().reset_index(name = 'num_months')\n",
    "    activity_after = users_months.groupby(['challenge', 'num_months'])['user_id'].count().reset_index()\n",
    "    activity_after.columns = ['challenge', 'num_months', 'num_users']\n",
    "    sums = activity_after.groupby('challenge').sum('user_id').reset_index()\n",
    "    zero_challenge = {'challenge': 'yes', 'num_months' : 0, 'num_users' : num_challenge - int(sums[sums['challenge'] == 'yes']['num_users'])}\n",
    "    zero_not = {'challenge': 'no', 'num_months' : 0, 'num_users' : num_not_challenge - int(sums[sums['challenge'] == 'no']['num_users'])}\n",
    "    activity_after = activity_after.append(zero_challenge, ignore_index=True)\n",
    "    activity_after = activity_after.append(zero_not, ignore_index=True)\n",
    "    first_part = activity_after[activity_after['challenge'] == 'yes']\n",
    "    first_part['percent'] = np.round((np.array(first_part['num_users']) / num_challenge) * 100, 0)\n",
    "    second_part = activity_after[activity_after['challenge'] == 'no']\n",
    "    second_part['percent'] = np.round((np.array(second_part['num_users']) / num_not_challenge) * 100, 0)\n",
    "    final_df = pd.concat([first_part, second_part])\n",
    "\n",
    "    add_titles = final_df.groupby('challenge')['num_users'].sum()\n",
    "    titles_dict = {'yes': 'New participants of the challenge' + '\\n(N = ' + str(add_titles['yes']) + ')',\n",
    "                  'no': 'Regular new users' + '\\n(N = ' + str(add_titles['no']) + ')'}\n",
    "    final_df['challenge']= final_df['challenge'].map(titles_dict) \n",
    "    \n",
    "    if draw: \n",
    "        \n",
    "        sns.set_style(\"whitegrid\")\n",
    "        sns.set(rc={'figure.figsize':(11.7,8.27)})\n",
    "        sns.set_style(\"whitegrid\")\n",
    "        \n",
    "        g = sns.catplot(x=\"num_months\", y = y_axis, col = 'challenge', kind = 'bar', data=final_df, height=5.5, aspect=.8, color = 'b')\n",
    "        if y_axis == 'percent':\n",
    "            g.set_axis_labels(\"Number of months users stayed \\n on the platform after joining\", \"Percentage of new users\")\n",
    "        else:\n",
    "            g.set_axis_labels(\"Number of months users stayed \\n on the platform after joining\", \"Count of new users\")\n",
    "        return g\n",
    "        sns.set_style(\"whitegrid\")\n",
    "    \n",
    "        \n",
    "    else:\n",
    "        return final_df"
   ]
  },
  {
   "cell_type": "code",
   "execution_count": 62,
   "metadata": {
    "tags": []
   },
   "outputs": [
    {
     "data": {
      "image/png": "[encoded data removed]",
      "text/plain": [
       "<Figure size 633.6x396 with 2 Axes>"
      ]
     },
     "metadata": {},
     "output_type": "display_data"
    }
   ],
   "source": [
    "\n",
    "sns.set_style(\"whitegrid\")\n",
    "compare_2019 = compare_users(df, 2019, 6, challenge_df = challenge_2019)\n",
    "compare_2019.set_titles(\"{col_name}\")\n",
    "compare_2019.savefig('sf2019.svg')\n",
    "compare_2019.savefig('sf2019.png')\n"
   ]
  },
  {
   "cell_type": "code",
   "execution_count": null,
   "metadata": {
    "execution": {
     "iopub.execute_input": "2021-09-28T17:36:27.725142Z",
     "iopub.status.busy": "2021-09-28T17:36:27.724652Z",
     "iopub.status.idle": "2021-09-28T17:36:29.417108Z",
     "shell.execute_reply": "2021-09-28T17:36:29.416191Z",
     "shell.execute_reply.started": "2021-09-28T17:36:27.725107Z"
    }
   },
   "outputs": [],
   "source": [
    "compare_2020 = compare_users(df, 2020, 6, challenge_df = challenge_2020)\n",
    "compare_2020.set_titles(\"{col_name}\")\n",
    "compare_2020.savefig('2020.png')"
   ]
  },
  {
   "cell_type": "code",
   "execution_count": null,
   "metadata": {
    "execution": {
     "iopub.execute_input": "2021-09-28T17:36:32.031529Z",
     "iopub.status.busy": "2021-09-28T17:36:32.03104Z",
     "iopub.status.idle": "2021-09-28T17:36:33.886683Z",
     "shell.execute_reply": "2021-09-28T17:36:33.885924Z",
     "shell.execute_reply.started": "2021-09-28T17:36:32.031497Z"
    }
   },
   "outputs": [],
   "source": [
    "compare_2018 = compare_users(df, 2018, 6, challenge_df = challenge_2018)\n",
    "compare_2018.set_titles(\"{col_name}\")\n",
    "compare_2018.savefig('2018.png')"
   ]
  }
 ],
 "metadata": {
  "kernelspec": {
   "display_name": "Python 3",
   "language": "python",
   "name": "python3"
  },
  "language_info": {
   "codemirror_mode": {
    "name": "ipython",
    "version": 3
   },
   "file_extension": ".py",
   "mimetype": "text/x-python",
   "name": "python",
   "nbconvert_exporter": "python",
   "pygments_lexer": "ipython3",
   "version": "3.9.2"
  }
 },
 "nbformat": 4,
 "nbformat_minor": 4
}
